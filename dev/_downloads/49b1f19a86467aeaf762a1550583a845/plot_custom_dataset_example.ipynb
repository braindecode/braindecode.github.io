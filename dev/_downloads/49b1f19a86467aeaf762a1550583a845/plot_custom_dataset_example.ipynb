{
  "cells": [
    {
      "cell_type": "code",
      "execution_count": null,
      "metadata": {
        "collapsed": false
      },
      "outputs": [],
      "source": [
        "%matplotlib inline"
      ]
    },
    {
      "cell_type": "markdown",
      "metadata": {},
      "source": [
        "\n# Custom Dataset Example\n\nThis example shows how to convert data X and y as numpy arrays to a braindecode\ncompatible data format.\n"
      ]
    },
    {
      "cell_type": "code",
      "execution_count": null,
      "metadata": {
        "collapsed": false
      },
      "outputs": [],
      "source": [
        "# Authors: Lukas Gemein <l.gemein@gmail.com>\n#\n# License: BSD (3-clause)\n\nimport mne\n\nfrom braindecode.datasets import create_from_X_y"
      ]
    },
    {
      "cell_type": "markdown",
      "metadata": {},
      "source": [
        "To set up the example, we first fetch some data using mne:\n\n"
      ]
    },
    {
      "cell_type": "code",
      "execution_count": null,
      "metadata": {
        "collapsed": false
      },
      "outputs": [],
      "source": [
        "# 5, 6, 7, 10, 13, 14 are codes for executed and imagined hands/feet\nsubject_id = 22\nevent_codes = [5, 6, 9, 10, 13, 14]\n# event_codes = [3, 4, 5, 6, 7, 8, 9, 10, 11, 12, 13, 14]\n\n# This will download the files if you don't have them yet,\n# and then return the paths to the files.\nphysionet_paths = mne.datasets.eegbci.load_data(\n    subject_id, event_codes, update_path=False)\n\n# Load each of the files\nparts = [mne.io.read_raw_edf(path, preload=True, stim_channel='auto')\n         for path in physionet_paths]"
      ]
    },
    {
      "cell_type": "markdown",
      "metadata": {},
      "source": [
        "We take the required data, targets and additional information sampling\nfrequency and channel names from the loaded data. Note that this data and\ninformation can originate from any source.\n\n"
      ]
    },
    {
      "cell_type": "code",
      "execution_count": null,
      "metadata": {
        "collapsed": false
      },
      "outputs": [],
      "source": [
        "X = [raw.get_data() for raw in parts]\ny = event_codes\nsfreq = parts[0].info[\"sfreq\"]\nch_names = parts[0].info[\"ch_names\"]"
      ]
    },
    {
      "cell_type": "markdown",
      "metadata": {},
      "source": [
        "Convert to data format compatible with skorch and braindecode:\n\n"
      ]
    },
    {
      "cell_type": "code",
      "execution_count": null,
      "metadata": {
        "collapsed": false
      },
      "outputs": [],
      "source": [
        "windows_dataset = create_from_X_y(\n    X, y, drop_last_window=False, sfreq=sfreq, ch_names=ch_names,\n    window_stride_samples=500,\n    window_size_samples=500,\n)\n\nwindows_dataset.description  # look as dataset description"
      ]
    },
    {
      "cell_type": "markdown",
      "metadata": {},
      "source": [
        "You can manipulate the dataset\n\n"
      ]
    },
    {
      "cell_type": "code",
      "execution_count": null,
      "metadata": {
        "collapsed": false
      },
      "outputs": [],
      "source": [
        "print(len(windows_dataset))  # get the number of samples"
      ]
    },
    {
      "cell_type": "markdown",
      "metadata": {},
      "source": [
        "You can now index the data\n\n"
      ]
    },
    {
      "cell_type": "code",
      "execution_count": null,
      "metadata": {
        "collapsed": false
      },
      "outputs": [],
      "source": [
        "i = 0\nx_i, y_i, window_ind = windows_dataset[0]\nn_channels, n_times = x_i.shape  # the EEG data\n_, start_ind, stop_ind = window_ind\nprint(f\"n_channels={n_channels}  -- n_times={n_times} -- y_i={y_i}\")\nprint(f\"start_ind={start_ind} -- stop_ind={stop_ind}\")"
      ]
    }
  ],
  "metadata": {
    "kernelspec": {
      "display_name": "Python 3",
      "language": "python",
      "name": "python3"
    },
    "language_info": {
      "codemirror_mode": {
        "name": "ipython",
        "version": 3
      },
      "file_extension": ".py",
      "mimetype": "text/x-python",
      "name": "python",
      "nbconvert_exporter": "python",
      "pygments_lexer": "ipython3",
      "version": "3.7.12"
    }
  },
  "nbformat": 4,
  "nbformat_minor": 0
}