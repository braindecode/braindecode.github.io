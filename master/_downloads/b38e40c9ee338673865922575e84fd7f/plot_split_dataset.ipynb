{
  "cells": [
    {
      "cell_type": "code",
      "execution_count": null,
      "metadata": {
        "collapsed": false
      },
      "outputs": [],
      "source": [
        "%matplotlib inline"
      ]
    },
    {
      "cell_type": "markdown",
      "metadata": {},
      "source": [
        "# Split Dataset Example\n\nIn this example, we show multiple ways of how to split datasets.\n"
      ]
    },
    {
      "cell_type": "code",
      "execution_count": null,
      "metadata": {
        "collapsed": false
      },
      "outputs": [],
      "source": [
        "# Authors: Lukas Gemein <l.gemein@gmail.com>\n#\n# License: BSD (3-clause)\n\nfrom IPython.display import display\n\nfrom braindecode.datasets import MOABBDataset\nfrom braindecode.datautil.windowers import create_windows_from_events"
      ]
    },
    {
      "cell_type": "markdown",
      "metadata": {},
      "source": [
        "First, we create a dataset based on BCIC IV 2a fetched with MOABB,\n\n"
      ]
    },
    {
      "cell_type": "code",
      "execution_count": null,
      "metadata": {
        "collapsed": false
      },
      "outputs": [],
      "source": [
        "ds = MOABBDataset(dataset_name=\"BNCI2014001\", subject_ids=[1])"
      ]
    },
    {
      "cell_type": "markdown",
      "metadata": {},
      "source": [
        "ds has a pandas DataFrame with additional description of its internal datasets\n\n"
      ]
    },
    {
      "cell_type": "code",
      "execution_count": null,
      "metadata": {
        "collapsed": false
      },
      "outputs": [],
      "source": [
        "display(ds.description)"
      ]
    },
    {
      "cell_type": "markdown",
      "metadata": {},
      "source": [
        "We can split the dataset based on the info in the description, for example\nbased on different runs. The returned dictionary will have string keys\ncorresponding to unique entries in the description DataFrame column\n\n"
      ]
    },
    {
      "cell_type": "code",
      "execution_count": null,
      "metadata": {
        "collapsed": false
      },
      "outputs": [],
      "source": [
        "splits = ds.split(\"run\")\ndisplay(splits)\ndisplay(splits[\"run_4\"].description)"
      ]
    },
    {
      "cell_type": "markdown",
      "metadata": {},
      "source": [
        "We can also split the dataset based on a list of integers corresponding to\nrows in the description. In this case, the returned dictionary will have\n'0' as the only key\n\n"
      ]
    },
    {
      "cell_type": "code",
      "execution_count": null,
      "metadata": {
        "collapsed": false
      },
      "outputs": [],
      "source": [
        "splits = ds.split([0, 1, 5])\ndisplay(splits)\ndisplay(splits[\"0\"].description)"
      ]
    },
    {
      "cell_type": "markdown",
      "metadata": {},
      "source": [
        "If we want multiple splits based on indices, we can also specify a list of\nlist of integers. In this case, the dictionary will have string keys\nrepresenting the id of the dataset split in the order of the given list of\nintegers\n\n"
      ]
    },
    {
      "cell_type": "code",
      "execution_count": null,
      "metadata": {
        "collapsed": false
      },
      "outputs": [],
      "source": [
        "splits = ds.split([[0, 1, 5], [2, 3, 4], [6, 7, 8, 9, 10, 11]])\ndisplay(splits)\ndisplay(splits[\"2\"].description)"
      ]
    },
    {
      "cell_type": "markdown",
      "metadata": {},
      "source": [
        "Similarly, we can split datasets after creating windows\n\n"
      ]
    },
    {
      "cell_type": "code",
      "execution_count": null,
      "metadata": {
        "collapsed": false
      },
      "outputs": [],
      "source": [
        "windows = create_windows_from_events(\n    ds, trial_start_offset_samples=0, trial_stop_offset_samples=0)\nsplits = windows.split(\"run\")\ndisplay(splits)\nsplits = windows.split([4, 8])\ndisplay(splits)\nsplits = windows.split([[4, 8], [5, 9, 11]])\ndisplay(splits)"
      ]
    }
  ],
  "metadata": {
    "kernelspec": {
      "display_name": "Python 3",
      "language": "python",
      "name": "python3"
    },
    "language_info": {
      "codemirror_mode": {
        "name": "ipython",
        "version": 3
      },
      "file_extension": ".py",
      "mimetype": "text/x-python",
      "name": "python",
      "nbconvert_exporter": "python",
      "pygments_lexer": "ipython3",
      "version": "3.7.10"
    }
  },
  "nbformat": 4,
  "nbformat_minor": 0
}