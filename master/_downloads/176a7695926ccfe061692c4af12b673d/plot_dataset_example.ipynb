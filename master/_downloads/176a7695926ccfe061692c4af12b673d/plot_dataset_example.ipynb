{
  "cells": [
    {
      "cell_type": "code",
      "execution_count": null,
      "metadata": {
        "collapsed": false
      },
      "outputs": [],
      "source": [
        "%matplotlib inline"
      ]
    },
    {
      "cell_type": "markdown",
      "metadata": {},
      "source": [
        "# MOABB Dataset Example\n\nIn this example, we show how to fetch and prepare a MOABB dataset for usage\nwith Braindecode.\n"
      ]
    },
    {
      "cell_type": "code",
      "execution_count": null,
      "metadata": {
        "collapsed": false
      },
      "outputs": [],
      "source": [
        "# Authors: Lukas Gemein <l.gemein@gmail.com>\n#          Hubert Banville <hubert.jbanville@gmail.com>\n#          Simon Brandt <simonbrandt@protonmail.com>\n#\n# License: BSD (3-clause)\n\nimport matplotlib.pyplot as plt\n\nfrom braindecode.datasets import MOABBDataset\nfrom braindecode.preprocessing.windowers import \\\n    create_windows_from_events, create_fixed_length_windows\nfrom braindecode.preprocessing.preprocess import preprocess, Preprocessor"
      ]
    },
    {
      "cell_type": "markdown",
      "metadata": {},
      "source": [
        "First, we create a dataset based on BCIC IV 2a fetched with MOABB,\n\n"
      ]
    },
    {
      "cell_type": "code",
      "execution_count": null,
      "metadata": {
        "collapsed": false
      },
      "outputs": [],
      "source": [
        "dataset = MOABBDataset(dataset_name=\"BNCI2014001\", subject_ids=[1])"
      ]
    },
    {
      "cell_type": "markdown",
      "metadata": {},
      "source": [
        "ds has a pandas DataFrame with additional description of its internal datasets\n\n"
      ]
    },
    {
      "cell_type": "code",
      "execution_count": null,
      "metadata": {
        "collapsed": false
      },
      "outputs": [],
      "source": [
        "dataset.description"
      ]
    },
    {
      "cell_type": "markdown",
      "metadata": {},
      "source": [
        "We can iterate through ds which yields one time point of a continuous signal x,\nand a target y (which can be None if targets are not defined for the entire\ncontinuous signal).\n\n"
      ]
    },
    {
      "cell_type": "code",
      "execution_count": null,
      "metadata": {
        "collapsed": false
      },
      "outputs": [],
      "source": [
        "for x, y in dataset:\n    print(x.shape, y)\n    break"
      ]
    },
    {
      "cell_type": "markdown",
      "metadata": {},
      "source": [
        "We can apply preprocessing transforms that are defined in mne and work\nin-place, such as resampling, bandpass filtering, or electrode selection.\n\n"
      ]
    },
    {
      "cell_type": "code",
      "execution_count": null,
      "metadata": {
        "collapsed": false
      },
      "outputs": [],
      "source": [
        "preprocessors = [\n    Preprocessor('pick_types', eeg=True, meg=False, stim=True),\n    Preprocessor('resample', sfreq=100)\n]\nprint(dataset.datasets[0].raw.info[\"sfreq\"])\npreprocess(dataset, preprocessors)\nprint(dataset.datasets[0].raw.info[\"sfreq\"])"
      ]
    },
    {
      "cell_type": "markdown",
      "metadata": {},
      "source": [
        "We can easily split ds based on a criteria applied to the description\nDataFrame:\n\n"
      ]
    },
    {
      "cell_type": "code",
      "execution_count": null,
      "metadata": {
        "collapsed": false
      },
      "outputs": [],
      "source": [
        "subsets = dataset.split(\"session\")\nprint({subset_name: len(subset) for subset_name, subset in subsets.items()})"
      ]
    },
    {
      "cell_type": "markdown",
      "metadata": {},
      "source": [
        "Next, we use a windower to extract events from the dataset based on events:\n\n"
      ]
    },
    {
      "cell_type": "code",
      "execution_count": null,
      "metadata": {
        "collapsed": false
      },
      "outputs": [],
      "source": [
        "windows_dataset = create_windows_from_events(\n    dataset, trial_start_offset_samples=0, trial_stop_offset_samples=100,\n    window_size_samples=400, window_stride_samples=100,\n    drop_last_window=False)"
      ]
    },
    {
      "cell_type": "markdown",
      "metadata": {},
      "source": [
        "We can iterate through the windows_ds which yields a window x,\na target y, and window_ind (which itself contains ``i_window_in_trial``,\n``i_start_in_trial``, and ``i_stop_in_trial``, which are required for\ncombining window predictions in the scorer).\n\n"
      ]
    },
    {
      "cell_type": "code",
      "execution_count": null,
      "metadata": {
        "collapsed": false
      },
      "outputs": [],
      "source": [
        "for x, y, window_ind in windows_dataset:\n    print(x.shape, y, window_ind)\n    break"
      ]
    },
    {
      "cell_type": "markdown",
      "metadata": {},
      "source": [
        "We visually inspect the windows:\n\n"
      ]
    },
    {
      "cell_type": "code",
      "execution_count": null,
      "metadata": {
        "collapsed": false
      },
      "outputs": [],
      "source": [
        "max_i = 2\nfig, ax_arr = plt.subplots(1, max_i + 1, figsize=(3.5 * (max_i + 1), 3.5),\n                           sharex=True, sharey=True)\nfor i, (x, y, window_ind) in enumerate(windows_dataset):\n    ax_arr[i].plot(x.T)\n    ax_arr[i].set_ylim(-4e-5, 4e-5)\n    ax_arr[i].set_title(f\"label={y}\")\n    if i == max_i:\n        break\n\nfig.tight_layout()"
      ]
    },
    {
      "cell_type": "markdown",
      "metadata": {},
      "source": [
        "Alternatively, we can create evenly spaced (\"sliding\") windows using a\ndifferent windower.\n\n"
      ]
    },
    {
      "cell_type": "code",
      "execution_count": null,
      "metadata": {
        "collapsed": false
      },
      "outputs": [],
      "source": [
        "sliding_windows_dataset = create_fixed_length_windows(\n    dataset, start_offset_samples=0, stop_offset_samples=0,\n    window_size_samples=1200, window_stride_samples=1000,\n    drop_last_window=False)\n\nprint(len(sliding_windows_dataset))\nfor x, y, window_ind in sliding_windows_dataset:\n    print(x.shape, y, window_ind)\n    break\n\nsliding_windows_dataset.description"
      ]
    },
    {
      "cell_type": "markdown",
      "metadata": {},
      "source": [
        "Transforms can also be applied on windows in the same way as shown\nabove on continuous data:\n\n"
      ]
    },
    {
      "cell_type": "code",
      "execution_count": null,
      "metadata": {
        "collapsed": false
      },
      "outputs": [],
      "source": [
        "def crop_windows(windows, start_offset_samples, stop_offset_samples):\n    fs = windows.info[\"sfreq\"]\n    windows.crop(tmin=start_offset_samples / fs, tmax=stop_offset_samples / fs,\n                 include_tmax=False)\n\n\nepochs_preprocessors = [\n    Preprocessor('pick_types', eeg=True, meg=False, stim=False),\n    Preprocessor(crop_windows, apply_on_array=False, start_offset_samples=100,\n                 stop_offset_samples=900)\n]\n\nprint(windows_dataset.datasets[0].windows.info[\"ch_names\"],\n      len(windows_dataset.datasets[0].windows.times))\npreprocess(windows_dataset, epochs_preprocessors)\nprint(windows_dataset.datasets[0].windows.info[\"ch_names\"],\n      len(windows_dataset.datasets[0].windows.times))\n\n\nmax_i = 2\nfig, ax_arr = plt.subplots(1, max_i + 1, figsize=(3.5 * (max_i + 1), 3.5),\n                           sharex=True, sharey=True)\nfor i, (x, y, window_ind) in enumerate(windows_dataset):\n    ax_arr[i].plot(x.T)\n    ax_arr[i].set_ylim(-4e-5, 4e-5)\n    ax_arr[i].set_title(f\"label={y}\")\n    if i == max_i:\n        break\n\nfig.tight_layout()\nplt.show()"
      ]
    },
    {
      "cell_type": "markdown",
      "metadata": {},
      "source": [
        "Again, we can easily split windows_ds based on some criteria in the\ndescription DataFrame:\n\n"
      ]
    },
    {
      "cell_type": "code",
      "execution_count": null,
      "metadata": {
        "collapsed": false
      },
      "outputs": [],
      "source": [
        "subsets = windows_dataset.split(\"session\")\nprint({subset_name: len(subset) for subset_name, subset in subsets.items()})"
      ]
    }
  ],
  "metadata": {
    "kernelspec": {
      "display_name": "Python 3",
      "language": "python",
      "name": "python3"
    },
    "language_info": {
      "codemirror_mode": {
        "name": "ipython",
        "version": 3
      },
      "file_extension": ".py",
      "mimetype": "text/x-python",
      "name": "python",
      "nbconvert_exporter": "python",
      "pygments_lexer": "ipython3",
      "version": "3.7.12"
    }
  },
  "nbformat": 4,
  "nbformat_minor": 0
}