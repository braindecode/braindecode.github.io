{
  "cells": [
    {
      "cell_type": "markdown",
      "metadata": {},
      "source": [
        "\n# Cropped Decoding on BCIC IV 2a Dataset\n   :depth: 2\n"
      ]
    },
    {
      "cell_type": "markdown",
      "metadata": {},
      "source": [
        "Building on the [Trialwise decoding](./plot_bcic_iv_2a_moabb_trial.html)_,\nwe now do more data-efficient cropped decoding!\n\nIn Braindecode, there are two supported configurations created for\ntraining models: trialwise decoding and cropped decoding. We will\nexplain this visually by comparing trialwise to cropped decoding.\n\n<img src=\"https://braindecode.org/stable/_static/trialwise_explanation.png\" alt=\"Trialwise decoding\">\n<img src=\"https://braindecode.org/stable/_static/cropped_explanation.png\" alt=\"Cropped decoding\">\nOn the left, you see trialwise decoding:\n\n1. A complete trial is pushed through the network.\n2. The network produces a prediction.\n3. The prediction is compared to the target (label) for that trial to\n   compute the loss.\n\nOn the right, you see cropped decoding:\n\n1. Instead of a complete trial, crops are pushed through the network.\n2. For computational efficiency, multiple neighbouring crops are pushed\n   through the network simultaneously (these neighbouring crops are\n   called compute windows)\n3. Therefore, the network produces multiple predictions (one per crop in\n   the window)\n4. The individual crop predictions are *AVERAGED* before computing the\n   loss function\n\nThis averaging of predictions of small sub-windows is the key difference\nbetween trialwise and cropped decoding. It was introduced in [1]_ and it impact\non the parameters of the network.\n\nIt is important to note that the averaging of predictions is only done\nduring training. During testing, the network is still applied to crops\nand the predictions are averaged afterwards.\n\n\n<div class=\"alert alert-info\"><h4>Note</h4><p>-  The network architecture implicitly defines the crop size (it is the\n       receptive field size, i.e., the number of timesteps the network uses\n       to make a single prediction)\n    -  The window size is a user-defined hyperparameter, called\n       ``input_window_samples`` in Braindecode. It mostly affects runtime\n       (larger window sizes should be faster). As a rule of thumb, you can\n       set it to two times the crop size.\n    -  Crop size and window size together define how many predictions the\n       network makes per window: ``#window \u2212 #crop + 1 = #predictions``</p></div>\n\n<div class=\"alert alert-info\"><h4>Note</h4><p>For cropped decoding, the above training setup is mathematically\n    similar to sampling crops in your dataset, pushing them through the\n    network and training directly on the individual crops. However, the\n    if their position would be randomly selected, the crops would be less\n    correlated in contrast to the neighbourhood crops selected from a window.\n    At the same time, the above training setup is much faster as it avoids\n    redundant computations by using dilated convolutions, see [2]_.\n    However, the two setups are only mathematically related in case (1)\n    your network does not use any padding or only left padding and\n    (2) your loss function leads\n    to the same gradients when using the averaged output. The first is true\n    for our shallow and deep ConvNet models and the second is true for the\n    log-softmax outputs and negative log likelihood loss that is typically\n    used for classification in PyTorch.</p></div>\n\n"
      ]
    },
    {
      "cell_type": "markdown",
      "metadata": {},
      "source": [
        "## Loading and preprocessing the dataset\n\nLoading and preprocessing stays the same as in the [Trialwise decoding\ntutorial](./plot_bcic_iv_2a_moabb_trial.html)_.\n\n"
      ]
    },
    {
      "cell_type": "code",
      "execution_count": null,
      "metadata": {
        "collapsed": false
      },
      "outputs": [],
      "source": [
        "from braindecode.datasets import MOABBDataset\n\nsubject_id = 3\ndataset = MOABBDataset(dataset_name=\"BNCI2014_001\", subject_ids=[subject_id])\n\nfrom numpy import multiply\n\nfrom braindecode.preprocessing import (\n    Preprocessor,\n    exponential_moving_standardize,\n    preprocess,\n)\n\nlow_cut_hz = 4.  # low cut frequency for filtering\nhigh_cut_hz = 38.  # high cut frequency for filtering\n# Parameters for exponential moving standardization\nfactor_new = 1e-3\ninit_block_size = 1000\n# Factor to convert from V to uV\nfactor = 1e6\n\npreprocessors = [\n    Preprocessor('pick_types', eeg=True, meg=False, stim=False),\n    # Keep EEG sensors\n    Preprocessor(lambda data: multiply(data, factor)),  # Convert from V to uV\n    Preprocessor('filter', l_freq=low_cut_hz, h_freq=high_cut_hz),\n    # Bandpass filter\n    Preprocessor(exponential_moving_standardize,\n                 # Exponential moving standardization\n                 factor_new=factor_new, init_block_size=init_block_size)\n]\n\n# Transform the data\npreprocess(dataset, preprocessors, n_jobs=-1)"
      ]
    },
    {
      "cell_type": "markdown",
      "metadata": {},
      "source": [
        "## Create model and compute windowing parameters\nIn contrast to trialwise decoding, we first have to create the model\nbefore we can cut the dataset into windows. This is because we need to\nknow the neural network parameters to know how large the sub-window\nstride should be.\n\nWe first choose the compute/input window size that will be fed to the\nnetwork during training. This has to be larger than the networks\nthe number of timesteps size and can otherwise be chosen for computational\nefficiency (see explanations in the beginning of this tutorial). Here we\nchoose 1000 samples, which are 4 seconds for the 250 Hz sampling rate.\n\n\n"
      ]
    },
    {
      "cell_type": "code",
      "execution_count": null,
      "metadata": {
        "collapsed": false
      },
      "outputs": [],
      "source": [
        "input_window_samples = 1000"
      ]
    },
    {
      "cell_type": "markdown",
      "metadata": {},
      "source": [
        "Now we create the model. To enable it to be used in cropped decoding\nefficiently, we manually set the length of the final convolution layer\nto some length that makes the number of timesteps of the ConvNet smaller\nthan ``input_window_samples`` (see ``final_conv_length=30`` in the model\ndefinition).\n\n\n"
      ]
    },
    {
      "cell_type": "code",
      "execution_count": null,
      "metadata": {
        "collapsed": false
      },
      "outputs": [],
      "source": [
        "import torch\n\nfrom braindecode.models import ShallowFBCSPNet\nfrom braindecode.util import set_random_seeds\n\ncuda = torch.cuda.is_available()  # check if GPU is available, if True chooses to use it\ndevice = 'cuda' if cuda else 'cpu'\nif cuda:\n    torch.backends.cudnn.benchmark = True\n# Set random seed to be able to roughly reproduce results\n# Note that with cudnn benchmark set to True, GPU indeterminism\n# may still make results substantially different between runs.\n# To obtain more consistent results at the cost of increased computation time,\n# you can set `cudnn_benchmark=False` in `set_random_seeds`\n# or remove `torch.backends.cudnn.benchmark = True`\nseed = 20200220\nset_random_seeds(seed=seed, cuda=cuda)\n\nn_classes = 4\nclasses = list(range(n_classes))\n# Extract number of chans from dataset\nn_chans = dataset[0][0].shape[0]\n\nmodel = ShallowFBCSPNet(\n    n_chans,\n    n_classes,\n    input_window_samples=input_window_samples,\n    final_conv_length=30,\n)\n\n# Display torchinfo table describing the model\nprint(model)\n\n# Send model to GPU\nif cuda:\n    _ = model.cuda()"
      ]
    },
    {
      "cell_type": "markdown",
      "metadata": {},
      "source": [
        "And now we transform model with strides to a model that outputs dense\nprediction, so we can use it to obtain predictions for all\ncrops.\n\n\n"
      ]
    },
    {
      "cell_type": "code",
      "execution_count": null,
      "metadata": {
        "collapsed": false
      },
      "outputs": [],
      "source": [
        "model.to_dense_prediction_model()"
      ]
    },
    {
      "cell_type": "markdown",
      "metadata": {},
      "source": [
        "To know the models\u2019 output shape without the last layer, we calculate the\nshape of model output for a dummy input.\n\n\n"
      ]
    },
    {
      "cell_type": "code",
      "execution_count": null,
      "metadata": {
        "collapsed": false
      },
      "outputs": [],
      "source": [
        "n_preds_per_input = model.get_output_shape()[2]"
      ]
    },
    {
      "cell_type": "markdown",
      "metadata": {},
      "source": [
        "## Cut the data into windows\nIn contrast to trialwise decoding, we have to supply an explicit\nwindow size and window stride to the ``create_windows_from_events``\nfunction.\n\n\n"
      ]
    },
    {
      "cell_type": "code",
      "execution_count": null,
      "metadata": {
        "collapsed": false
      },
      "outputs": [],
      "source": [
        "from braindecode.preprocessing import create_windows_from_events\n\ntrial_start_offset_seconds = -0.5\n# Extract sampling frequency, check that they are same in all datasets\nsfreq = dataset.datasets[0].raw.info['sfreq']\nassert all([ds.raw.info['sfreq'] == sfreq for ds in dataset.datasets])\n\n# Calculate the trial start offset in samples.\ntrial_start_offset_samples = int(trial_start_offset_seconds * sfreq)\n\n# Create windows using braindecode function for this. It needs parameters to define how\n# trials should be used.\nwindows_dataset = create_windows_from_events(\n    dataset,\n    trial_start_offset_samples=trial_start_offset_samples,\n    trial_stop_offset_samples=0,\n    window_size_samples=input_window_samples,\n    window_stride_samples=n_preds_per_input,\n    drop_last_window=False,\n    preload=True\n)"
      ]
    },
    {
      "cell_type": "markdown",
      "metadata": {},
      "source": [
        "## Split the dataset\n\nThis code is the same as in trialwise decoding.\n\n\n"
      ]
    },
    {
      "cell_type": "code",
      "execution_count": null,
      "metadata": {
        "collapsed": false
      },
      "outputs": [],
      "source": [
        "splitted = windows_dataset.split('session')\ntrain_set = splitted['0train']  # Session train\nvalid_set = splitted['1test']  # Session evaluation"
      ]
    },
    {
      "cell_type": "markdown",
      "metadata": {},
      "source": [
        "## Training\nIn difference to trialwise decoding, we now should supply\n``cropped=True`` to the EEGClassifier, and ``CroppedLoss`` as the\ncriterion, as well as ``criterion__loss_function`` as the loss function\napplied to the meaned predictions.\n\n<div class=\"alert alert-info\"><h4>Note</h4><p>In this tutorial, we use some default parameters that we\n    have found to work well for motor decoding, however we strongly\n    encourage you to perform your own hyperparameter optimization using\n    cross validation on your training data.</p></div>\n\n\n"
      ]
    },
    {
      "cell_type": "code",
      "execution_count": null,
      "metadata": {
        "collapsed": false
      },
      "outputs": [],
      "source": [
        "from skorch.callbacks import LRScheduler\nfrom skorch.helper import predefined_split\n\nfrom braindecode import EEGClassifier\nfrom braindecode.training import CroppedLoss\n\n# These values we found good for shallow network:\nlr = 0.0625 * 0.01\nweight_decay = 0\n\n# For deep4 they should be:\n# lr = 1 * 0.01\n# weight_decay = 0.5 * 0.001\n\nbatch_size = 64\nn_epochs = 2\n\nclf = EEGClassifier(\n    model,\n    cropped=True,\n    criterion=CroppedLoss,\n    criterion__loss_function=torch.nn.functional.nll_loss,\n    optimizer=torch.optim.AdamW,\n    train_split=predefined_split(valid_set),\n    optimizer__lr=lr,\n    optimizer__weight_decay=weight_decay,\n    iterator_train__shuffle=True,\n    batch_size=batch_size,\n    callbacks=[\n        \"accuracy\",\n        (\"lr_scheduler\", LRScheduler('CosineAnnealingLR', T_max=n_epochs - 1)),\n    ],\n    device=device,\n    classes=classes,\n)\n# Model training for a specified number of epochs. `y` is None as it is already supplied\n# in the dataset.\n_ = clf.fit(train_set, y=None, epochs=n_epochs)"
      ]
    },
    {
      "cell_type": "markdown",
      "metadata": {},
      "source": [
        "## Plot Results\n<div class=\"alert alert-info\"><h4>Note</h4><p>Note that we drop further in the classification error and\n    loss as in the trialwise decoding tutorial.</p></div>\n\n\n"
      ]
    },
    {
      "cell_type": "code",
      "execution_count": null,
      "metadata": {
        "collapsed": false
      },
      "outputs": [],
      "source": [
        "import matplotlib.pyplot as plt\nimport pandas as pd\nfrom matplotlib.lines import Line2D\n\n# Extract loss and accuracy values for plotting from history object\nresults_columns = ['train_loss', 'valid_loss', 'train_accuracy',\n                   'valid_accuracy']\ndf = pd.DataFrame(clf.history[:, results_columns], columns=results_columns,\n                  index=clf.history[:, 'epoch'])\n\n# get percent of misclass for better visual comparison to loss\ndf = df.assign(train_misclass=100 - 100 * df.train_accuracy,\n               valid_misclass=100 - 100 * df.valid_accuracy)\n\nfig, ax1 = plt.subplots(figsize=(8, 3))\ndf.loc[:, ['train_loss', 'valid_loss']].plot(\n    ax=ax1, style=['-', ':'], marker='o', color='tab:blue', legend=False,\n    fontsize=14)\n\nax1.tick_params(axis='y', labelcolor='tab:blue', labelsize=14)\nax1.set_ylabel(\"Loss\", color='tab:blue', fontsize=14)\n\nax2 = ax1.twinx()  # instantiate a second axes that shares the same x-axis\n\ndf.loc[:, ['train_misclass', 'valid_misclass']].plot(\n    ax=ax2, style=['-', ':'], marker='o', color='tab:red', legend=False)\nax2.tick_params(axis='y', labelcolor='tab:red', labelsize=14)\nax2.set_ylabel(\"Misclassification Rate [%]\", color='tab:red', fontsize=14)\nax2.set_ylim(ax2.get_ylim()[0], 85)  # make some room for legend\nax1.set_xlabel(\"Epoch\", fontsize=14)\n\n# where some data has already been plotted to ax\nhandles = []\nhandles.append(\n    Line2D([0], [0], color='black', linewidth=1, linestyle='-', label='Train'))\nhandles.append(\n    Line2D([0], [0], color='black', linewidth=1, linestyle=':', label='Valid'))\nplt.legend(handles, [h.get_label() for h in handles], fontsize=14)\nplt.tight_layout()"
      ]
    },
    {
      "cell_type": "markdown",
      "metadata": {},
      "source": [
        "## Plot Confusion Matrix\n\nGenerate a confusion matrix as in [2]_\n\n\n"
      ]
    },
    {
      "cell_type": "code",
      "execution_count": null,
      "metadata": {
        "collapsed": false
      },
      "outputs": [],
      "source": [
        "from sklearn.metrics import confusion_matrix\n\nfrom braindecode.visualization import plot_confusion_matrix\n\n# generate confusion matrices\n# get the targets\ny_true = valid_set.get_metadata().target\ny_pred = clf.predict(valid_set)\n\n# generating confusion matrix\nconfusion_mat = confusion_matrix(y_true, y_pred)\n\n# add class labels\n# label_dict is class_name : str -> i_class : int\nlabel_dict = valid_set.datasets[0].window_kwargs[0][1]['mapping']\n# sort the labels by values (values are integer class labels)\nlabels = [k for k, v in sorted(label_dict.items(), key=lambda kv: kv[1])]\n\n# plot the basic conf. matrix\nplot_confusion_matrix(confusion_mat, class_names=labels)"
      ]
    },
    {
      "cell_type": "markdown",
      "metadata": {},
      "source": [
        "## References\n\n.. [1] Tangermann, M., M\u00fcller, K.R., Aertsen, A., Birbaumer, N., Braun, C.,\n       Brunner, C., Leeb, R., Mehring, C., Miller, K.J., Mueller-Putz, G.\n       and Nolte, G., 2012. Review of the BCI competition IV.\n       Frontiers in neuroscience, 6, p.55.\n\n.. [2] Schirrmeister, R.T., Springenberg, J.T., Fiederer, L.D.J., Glasstetter, M.,\n       Eggensperger, K., Tangermann, M., Hutter, F., Burgard, W. and Ball, T. (2017),\n       Deep learning with convolutional neural networks for EEG decoding and visualization.\n       Hum. Brain Mapping, 38: 5391-5420. https://doi.org/10.1002/hbm.23730.\n\n"
      ]
    }
  ],
  "metadata": {
    "kernelspec": {
      "display_name": "Python 3",
      "language": "python",
      "name": "python3"
    },
    "language_info": {
      "codemirror_mode": {
        "name": "ipython",
        "version": 3
      },
      "file_extension": ".py",
      "mimetype": "text/x-python",
      "name": "python",
      "nbconvert_exporter": "python",
      "pygments_lexer": "ipython3",
      "version": "3.9.5"
    }
  },
  "nbformat": 4,
  "nbformat_minor": 0
}