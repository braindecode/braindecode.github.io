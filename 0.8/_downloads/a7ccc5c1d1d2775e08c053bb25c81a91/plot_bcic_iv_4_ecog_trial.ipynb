{
  "cells": [
    {
      "cell_type": "markdown",
      "metadata": {},
      "source": [
        "\n# Fingers flexion decoding on BCIC IV 4 ECoG Dataset\n\nThis tutorial shows you how to train and test deep learning models with\nBraindecode on ECoG BCI IV competition dataset 4. For this dataset we will\npredict 5 regression targets corresponding to flexion of each finger.\nThe targets were recorded as a time series (each 25 Hz), so this tutorial is\nan example of time series target prediction.\n"
      ]
    },
    {
      "cell_type": "code",
      "execution_count": null,
      "metadata": {
        "collapsed": false
      },
      "outputs": [],
      "source": [
        "# Authors: Maciej Sliwowski <maciek.sliwowski@gmail.com>\n#          Mohammed Fattouh <mo.fattouh@gmail.com>\n#\n# License: BSD (3-clause)"
      ]
    },
    {
      "cell_type": "markdown",
      "metadata": {},
      "source": [
        "## Loading and preparing the dataset\n\n\n"
      ]
    },
    {
      "cell_type": "markdown",
      "metadata": {},
      "source": [
        "### Loading\n\n\n"
      ]
    },
    {
      "cell_type": "markdown",
      "metadata": {},
      "source": [
        "First, we load the data. In this tutorial, we use the functionality of braindecode\nto load [BCI IV competition dataset 4](http://www.bbci.de/competition/iv/#dataset4)_.\nThe dataset is available as a part of ECoG library:\nhttps://searchworks.stanford.edu/view/zk881ps0522\n\nThe dataset contains ECoG signal and time series of 5 targets corresponding\nto each finger flexion. This is different than standard decoding setup for EEG with\nmultiple trials and usually one target per trial. Here, fingers flexions change in time\nand are recorded with sampling frequency equals to 25 Hz.\n\nIf this dataset is used please cite [1].\n\n[1] Miller, Kai J. \"A library of human electrocorticographic data and analyses.\n\"Nature human behaviour 3, no. 11 (2019): 1225-1235. https://doi.org/10.1038/s41562-019-0678-3\n\n"
      ]
    },
    {
      "cell_type": "code",
      "execution_count": null,
      "metadata": {
        "collapsed": false
      },
      "outputs": [],
      "source": [
        "import numpy as np\n\nfrom braindecode.datasets import BCICompetitionIVDataset4\n\nsubject_id = 1\ndataset = BCICompetitionIVDataset4(subject_ids=[subject_id])"
      ]
    },
    {
      "cell_type": "markdown",
      "metadata": {},
      "source": [
        "### Preprocessing\n\n\n"
      ]
    },
    {
      "cell_type": "markdown",
      "metadata": {},
      "source": [
        "Now we apply preprocessing like bandpass filtering to our dataset. You\ncan either apply functions provided by\n[mne.Raw](https://mne.tools/stable/generated/mne.io.Raw.html)_ or\n[mne.Epochs](https://mne.tools/0.11/generated/mne.Epochs.html#mne.Epochs)_\nor apply your own functions, either to the MNE object or the underlying\nnumpy array.\n\n<div class=\"alert alert-info\"><h4>Note</h4><p>Preprocessing steps are taken from a standard EEG processing pipeline.\n   The only change is the cutoff frequency of the filter. For a proper ECoG\n   decoding other preprocessing steps may be needed.</p></div>\n\n<div class=\"alert alert-info\"><h4>Note</h4><p>These prepocessings are now directly applied to the loaded\n   data, and not on-the-fly applied as transformations in\n   PyTorch-libraries like\n   [torchvision](https://pytorch.org/docs/stable/torchvision/index.html)_.</p></div>\n\n\n"
      ]
    },
    {
      "cell_type": "code",
      "execution_count": null,
      "metadata": {
        "collapsed": false
      },
      "outputs": [],
      "source": [
        "from braindecode.preprocessing import (Preprocessor,\n                                       exponential_moving_standardize,\n                                       preprocess)\n\nlow_cut_hz = 1.  # low cut frequency for filtering\nhigh_cut_hz = 200.  # high cut frequency for filtering, for ECoG higher than for EEG\n# Parameters for exponential moving standardization\nfactor_new = 1e-3\ninit_block_size = 1000"
      ]
    },
    {
      "cell_type": "markdown",
      "metadata": {},
      "source": [
        "We select only first 30 seconds from each dataset to limit time and memory\nto run this example. To obtain results on the whole datasets you should remove this line.\n\n"
      ]
    },
    {
      "cell_type": "code",
      "execution_count": null,
      "metadata": {
        "collapsed": false
      },
      "outputs": [],
      "source": [
        "preprocess(dataset, [Preprocessor('crop', tmin=0, tmax=30)])"
      ]
    },
    {
      "cell_type": "markdown",
      "metadata": {},
      "source": [
        "In time series targets setup, targets variables are stored in mne.Raw object as channels\nof type `misc`. Thus those channels have to be selected for further processing. However,\nmany mne functions ignore `misc` channels and perform operations only on data channels\n(see https://mne.tools/stable/glossary.html#term-data-channels).\n\n"
      ]
    },
    {
      "cell_type": "code",
      "execution_count": null,
      "metadata": {
        "collapsed": false
      },
      "outputs": [],
      "source": [
        "preprocessors = [\n    Preprocessor('pick_types', ecog=True, misc=True),\n    Preprocessor(lambda x: x / 1e6, picks='ecog'),  # Convert from V to uV\n    Preprocessor('filter', l_freq=low_cut_hz, h_freq=high_cut_hz),  # Bandpass filter\n    Preprocessor(exponential_moving_standardize,  # Exponential moving standardization\n                 factor_new=factor_new, init_block_size=init_block_size, picks='ecog')\n]\n\n# Transform the data\npreprocess(dataset, preprocessors)\n\n# Extract sampling frequency, check that they are same in all datasets\nsfreq = dataset.datasets[0].raw.info['sfreq']\nassert all([ds.raw.info['sfreq'] == sfreq for ds in dataset.datasets])\n# Extract target sampling frequency\ntarget_sfreq = dataset.datasets[0].raw.info['temp']['target_sfreq']"
      ]
    },
    {
      "cell_type": "markdown",
      "metadata": {},
      "source": [
        "### Cut Compute Windows\n\n\n"
      ]
    },
    {
      "cell_type": "markdown",
      "metadata": {},
      "source": [
        "Now we cut out compute windows, the inputs for the deep networks during\ntraining. In the case of trialwise decoding of time series targets, we just have to\ndecide about length windows that will be selected from the signal preceding each target.\nWe use different windowing function than in standard trialwise decoding as our targets\nare stored as target channels in mne.Raw.\n\n"
      ]
    },
    {
      "cell_type": "code",
      "execution_count": null,
      "metadata": {
        "collapsed": false
      },
      "outputs": [],
      "source": [
        "from braindecode.preprocessing import create_windows_from_target_channels\n\nwindows_dataset = create_windows_from_target_channels(\n    dataset,\n    window_size_samples=1000,\n    preload=False,\n    last_target_only=True\n)"
      ]
    },
    {
      "cell_type": "markdown",
      "metadata": {},
      "source": [
        "We select only the thumb's finger flexion to create one model per finger.\n\n<div class=\"alert alert-info\"><h4>Note</h4><p>Methods to predict all 5 fingers flexion with the same model may be cnosidered as well.\n   We encourage you to find your own way to use braindecode models to predict finers fexions.</p></div>\n\n\n"
      ]
    },
    {
      "cell_type": "code",
      "execution_count": null,
      "metadata": {
        "collapsed": false
      },
      "outputs": [],
      "source": [
        "windows_dataset.target_transform = lambda x: x[0: 1]"
      ]
    },
    {
      "cell_type": "markdown",
      "metadata": {},
      "source": [
        "### Split dataset into train, valid, and test\n\n\n"
      ]
    },
    {
      "cell_type": "markdown",
      "metadata": {},
      "source": [
        "We can easily split the dataset using additional info stored in the\ndescription attribute, in this case ``session`` column. We select `train` dataset\nfor training and validation and `test` for final evaluation.\n\n"
      ]
    },
    {
      "cell_type": "code",
      "execution_count": null,
      "metadata": {
        "collapsed": false
      },
      "outputs": [],
      "source": [
        "subsets = windows_dataset.split('session')\ntrain_set = subsets['train']\ntest_set = subsets['test']"
      ]
    },
    {
      "cell_type": "markdown",
      "metadata": {},
      "source": [
        "We can split train dataset into training and validation datasets using\n``sklearn.model_selection.train_test_split`` and ``torch.utils.data.Subset``.\n\n"
      ]
    },
    {
      "cell_type": "code",
      "execution_count": null,
      "metadata": {
        "collapsed": false
      },
      "outputs": [],
      "source": [
        "import torch\nfrom sklearn.model_selection import train_test_split\n\nidx_train, idx_valid = train_test_split(np.arange(len(train_set)),\n                                        random_state=100,\n                                        test_size=0.2,\n                                        shuffle=False)\n\nvalid_set = torch.utils.data.Subset(train_set, idx_valid)\ntrain_set = torch.utils.data.Subset(train_set, idx_train)"
      ]
    },
    {
      "cell_type": "markdown",
      "metadata": {},
      "source": [
        "## Create model\n\n\n"
      ]
    },
    {
      "cell_type": "markdown",
      "metadata": {},
      "source": [
        "Now we create the deep learning model! Braindecode comes with some\npredefined convolutional neural network architectures for raw\ntime-domain EEG. Here, we use the shallow ConvNet model from [Deep\nlearning with convolutional neural networks for EEG decoding and\nvisualization](https://arxiv.org/abs/1703.05051)_. These models are\npure [PyTorch](https://pytorch.org)_ deep learning models, therefore\nto use your own model, it just has to be a normal PyTorch\n[nn.Module](https://pytorch.org/docs/stable/nn.html#torch.nn.Module)_.\n\n"
      ]
    },
    {
      "cell_type": "code",
      "execution_count": null,
      "metadata": {
        "collapsed": false
      },
      "outputs": [],
      "source": [
        "from braindecode.models import ShallowFBCSPNet\nfrom braindecode.util import set_random_seeds\n\ncuda = torch.cuda.is_available()  # check if GPU is available, if True chooses to use it\ndevice = 'cuda' if cuda else 'cpu'\nif cuda:\n    torch.backends.cudnn.benchmark = True\n# Set random seed to be able to roughly reproduce results\n# Note that with cudnn benchmark set to True, GPU indeterminism\n# may still make results substantially different between runs.\n# To obtain more consistent results at the cost of increased computation time,\n# you can set `cudnn_benchmark=False` in `set_random_seeds`\n# or remove `torch.backends.cudnn.benchmark = True`\nseed = 20200220\nset_random_seeds(seed=seed, cuda=cuda)\n\nn_out_chans = train_set[0][1].shape[0]\n# Extract number of chans and time steps from dataset\nn_chans = train_set[0][0].shape[0]\ninput_window_samples = 1000  # 1 second long windows\n\nmodel = ShallowFBCSPNet(\n    n_chans,\n    n_out_chans,\n    input_window_samples=input_window_samples,\n    final_conv_length='auto',\n    add_log_softmax=False,\n)\n\n# Send model to GPU\nif cuda:\n    model.cuda()"
      ]
    },
    {
      "cell_type": "markdown",
      "metadata": {},
      "source": [
        "## Training\n\n\n"
      ]
    },
    {
      "cell_type": "markdown",
      "metadata": {},
      "source": [
        "Now we train the network! EEGRegressor is a Braindecode object\nresponsible for managing the training of neural networks. It inherits\nfrom skorch.NeuralNetRegressor, so the training logic is the same as in\n[Skorch](https://skorch.readthedocs.io/en/stable/)_.\n\n<div class=\"alert alert-info\"><h4>Note</h4><p>In this tutorial, we use some default parameters that we\n   have found to work well for EEG motor decoding, however we strongly\n   encourage you to perform your own hyperparameter and preprocessing optimization using\n   cross validation on your training data.</p></div>\n\n\n"
      ]
    },
    {
      "cell_type": "code",
      "execution_count": null,
      "metadata": {
        "collapsed": false
      },
      "outputs": [],
      "source": [
        "from skorch.callbacks import EpochScoring, LRScheduler\nfrom skorch.helper import predefined_split\nfrom mne import set_log_level\n\nfrom braindecode import EEGRegressor\n\n# These values we found good for shallow network for EEG MI decoding:\nlr = 0.0625 * 0.01\nweight_decay = 0\nbatch_size = 64\nn_epochs = 2\n\n\n# Function to compute Pearson correlation coefficient\ndef pearson_r_score(net, dataset, y):\n    preds = net.predict(dataset)\n    corr_coeffs = []\n    for i in range(y.shape[1]):\n        corr_coeffs.append(np.corrcoef(y[:, i], preds[:, i])[0, 1])\n    return np.mean(corr_coeffs)\n\n\nregressor = EEGRegressor(\n    model,\n    criterion=torch.nn.MSELoss,\n    optimizer=torch.optim.AdamW,\n    train_split=predefined_split(valid_set),  # using valid_set for validation,\n    optimizer__lr=lr,\n    optimizer__weight_decay=weight_decay,\n    batch_size=batch_size,\n    callbacks=[\n        'r2',\n        ('valid_pearson_r', EpochScoring(pearson_r_score, lower_is_better=False, on_train=False,\n                                         name='valid_pearson_r')),\n        ('train_pearson_r', EpochScoring(pearson_r_score, lower_is_better=False, on_train=True,\n                                         name='train_pearson_r')),\n        (\"lr_scheduler\", LRScheduler('CosineAnnealingLR', T_max=n_epochs - 1)),\n    ],\n    device=device,\n)\nset_log_level(verbose='WARNING')"
      ]
    },
    {
      "cell_type": "markdown",
      "metadata": {},
      "source": [
        "Model training for a specified number of epochs. ``y`` is None as it is already supplied\nin the dataset.\n\n"
      ]
    },
    {
      "cell_type": "code",
      "execution_count": null,
      "metadata": {
        "collapsed": false
      },
      "outputs": [],
      "source": [
        "regressor.fit(train_set, y=None, epochs=n_epochs)"
      ]
    },
    {
      "cell_type": "markdown",
      "metadata": {},
      "source": [
        "Obtaining predictions and targets for the test, train, and validation dataset\n\n"
      ]
    },
    {
      "cell_type": "code",
      "execution_count": null,
      "metadata": {
        "collapsed": false
      },
      "outputs": [],
      "source": [
        "preds_test = regressor.predict(test_set)\ny_test = np.stack([data[1] for data in test_set])\npreds_train = regressor.predict(train_set)\ny_train = np.stack([data[1] for data in train_set])\npreds_valid = regressor.predict(valid_set)\ny_valid = np.stack([data[1] for data in valid_set])"
      ]
    },
    {
      "cell_type": "markdown",
      "metadata": {},
      "source": [
        "## Plot Results\n\n"
      ]
    },
    {
      "cell_type": "markdown",
      "metadata": {},
      "source": [
        "We plot target and predicted finger flexion on training, validation, and test sets.\n\n<div class=\"alert alert-info\"><h4>Note</h4><p>The model is trained and validated on limited dataset (to decrease the time needed to run\n   this example) which does not contain diverse dataset in terms of fingers flexions and may\n   cause overfitting. To obtain better results use whole dataset as well as improve the decoding\n   pipeline which may be not optimal for ECoG.</p></div>\n\n\n"
      ]
    },
    {
      "cell_type": "code",
      "execution_count": null,
      "metadata": {
        "collapsed": false
      },
      "outputs": [],
      "source": [
        "import matplotlib.pyplot as plt\nimport pandas as pd\nfrom matplotlib.lines import Line2D\n\nfig, axes = plt.subplots(3, 1, figsize=(8, 9))\n\naxes[0].set_title('Training dataset')\naxes[0].plot(np.arange(0, y_train.shape[0]) / target_sfreq, y_train[:, 0], label='Target')\naxes[0].plot(np.arange(0, preds_train.shape[0]) / target_sfreq, preds_train[:, 0],\n             label='Predicted')\naxes[0].set_ylabel('Finger flexion')\naxes[0].legend()\n\naxes[1].set_title('Validation dataset')\naxes[1].plot(np.arange(0, y_valid.shape[0]) / target_sfreq, y_valid[:, 0], label='Target')\naxes[1].plot(np.arange(0, preds_valid.shape[0]) / target_sfreq, preds_valid[:, 0],\n             label='Predicted')\naxes[1].set_ylabel('Finger flexion')\naxes[1].legend()\n\naxes[2].set_title('Test dataset')\naxes[2].plot(np.arange(0, y_test.shape[0]) / target_sfreq, y_test[:, 0], label='Target')\naxes[2].plot(np.arange(0, preds_test.shape[0]) / target_sfreq, preds_test[:, 0], label='Predicted')\naxes[2].set_xlabel('Time [s]')\naxes[2].set_ylabel('Finger flexion')\naxes[2].legend()\nplt.tight_layout()"
      ]
    },
    {
      "cell_type": "markdown",
      "metadata": {},
      "source": [
        "We can compute correlation coefficients for each finger\n\n\n"
      ]
    },
    {
      "cell_type": "code",
      "execution_count": null,
      "metadata": {
        "collapsed": false
      },
      "outputs": [],
      "source": [
        "corr_coeffs = []\nfor dim in range(y_test.shape[1]):\n    corr_coeffs.append(\n        np.corrcoef(preds_test[:, dim], y_test[:, dim])[0, 1]\n    )\nprint('Correlation coefficient for each dimension: ', np.round(corr_coeffs, 2))"
      ]
    },
    {
      "cell_type": "markdown",
      "metadata": {},
      "source": [
        "Now we use the history stored by Skorch throughout training to plot\naccuracy and loss curves.\nExtract loss and accuracy values for plotting from history object\n\n"
      ]
    },
    {
      "cell_type": "code",
      "execution_count": null,
      "metadata": {
        "collapsed": false
      },
      "outputs": [],
      "source": [
        "results_columns = ['train_loss', 'valid_loss', 'train_pearson_r', 'valid_pearson_r']\ndf = pd.DataFrame(regressor.history[:, results_columns], columns=results_columns,\n                  index=regressor.history[:, 'epoch'])\n\nfig, ax1 = plt.subplots(figsize=(8, 4))\ndf.loc[:, ['train_loss', 'valid_loss']].plot(\n    ax=ax1, style=['-', ':'], marker='o', color='tab:blue', legend=False, fontsize=14)\n\nax1.tick_params(axis='y', labelcolor='tab:blue', labelsize=14)\nax1.set_ylabel(\"Loss\", color='tab:blue', fontsize=14)\n\nax2 = ax1.twinx()  # instantiate a second axes that shares the same x-axis\n\ndf.loc[:, ['train_pearson_r', 'valid_pearson_r']].plot(\n    ax=ax2, style=['-', ':'], marker='o', color='tab:red', legend=False)\nax2.tick_params(axis='y', labelcolor='tab:red', labelsize=14)\nax2.set_ylabel(\"Pearson correlation coefficient\", color='tab:red', fontsize=14)\nax1.set_xlabel(\"Epoch\", fontsize=14)\n\n# where some data has already been plotted to ax\nhandles = []\nhandles.append(Line2D([0], [0], color='black', linewidth=1, linestyle='-',\n                      label='Train'))\nhandles.append(Line2D([0], [0], color='black', linewidth=1, linestyle=':',\n                      label='Valid'))\nplt.legend(handles, [h.get_label() for h in handles], fontsize=14, loc='center right')\nplt.tight_layout()"
      ]
    }
  ],
  "metadata": {
    "kernelspec": {
      "display_name": "Python 3",
      "language": "python",
      "name": "python3"
    },
    "language_info": {
      "codemirror_mode": {
        "name": "ipython",
        "version": 3
      },
      "file_extension": ".py",
      "mimetype": "text/x-python",
      "name": "python",
      "nbconvert_exporter": "python",
      "pygments_lexer": "ipython3",
      "version": "3.9.5"
    }
  },
  "nbformat": 4,
  "nbformat_minor": 0
}