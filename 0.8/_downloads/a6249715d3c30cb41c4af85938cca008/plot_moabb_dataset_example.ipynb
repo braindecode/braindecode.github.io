{
  "cells": [
    {
      "cell_type": "markdown",
      "metadata": {},
      "source": [
        "# MOABB Dataset Example\n\nIn this example, we show how to fetch and prepare a MOABB dataset for usage\nwith Braindecode.\n"
      ]
    },
    {
      "cell_type": "code",
      "execution_count": null,
      "metadata": {
        "collapsed": false
      },
      "outputs": [],
      "source": [
        "# Authors: Lukas Gemein <l.gemein@gmail.com>\n#          Hubert Banville <hubert.jbanville@gmail.com>\n#          Simon Brandt <simonbrandt@protonmail.com>\n#          Daniel Wilson <dan.c.wil@gmail.com>\n#\n# License: BSD (3-clause)\n\nfrom braindecode.datasets import MOABBDataset\nfrom braindecode.preprocessing import preprocess, Preprocessor"
      ]
    },
    {
      "cell_type": "markdown",
      "metadata": {},
      "source": [
        "First, we create a dataset based on BCIC IV 2a fetched with MOABB,\n\n"
      ]
    },
    {
      "cell_type": "code",
      "execution_count": null,
      "metadata": {
        "collapsed": false
      },
      "outputs": [],
      "source": [
        "dataset = MOABBDataset(dataset_name=\"BNCI2014001\", subject_ids=[1])"
      ]
    },
    {
      "cell_type": "markdown",
      "metadata": {},
      "source": [
        "The dataset has a pandas DataFrame with additional description of its internal datasets\n\n"
      ]
    },
    {
      "cell_type": "code",
      "execution_count": null,
      "metadata": {
        "collapsed": false
      },
      "outputs": [],
      "source": [
        "dataset.description"
      ]
    },
    {
      "cell_type": "markdown",
      "metadata": {},
      "source": [
        "We can iterate through dataset which yields one time point of a continuous signal x,\nand a target y (which can be None if targets are not defined for the entire\ncontinuous signal).\n\n"
      ]
    },
    {
      "cell_type": "code",
      "execution_count": null,
      "metadata": {
        "collapsed": false
      },
      "outputs": [],
      "source": [
        "for x, y in dataset:\n    print(x.shape, y)\n    break"
      ]
    },
    {
      "cell_type": "markdown",
      "metadata": {},
      "source": [
        "We can apply preprocessing transforms that are defined in mne and work\nin-place, such as resampling, bandpass filtering, or electrode selection.\n\n"
      ]
    },
    {
      "cell_type": "code",
      "execution_count": null,
      "metadata": {
        "collapsed": false
      },
      "outputs": [],
      "source": [
        "preprocessors = [\n    Preprocessor('pick_types', eeg=True, meg=False, stim=True),\n    Preprocessor('resample', sfreq=100)\n]\nprint(dataset.datasets[0].raw.info[\"sfreq\"])\npreprocess(dataset, preprocessors)\nprint(dataset.datasets[0].raw.info[\"sfreq\"])"
      ]
    },
    {
      "cell_type": "markdown",
      "metadata": {},
      "source": [
        "We can easily split the dataset based on a criteria applied to the description\nDataFrame:\n\n"
      ]
    },
    {
      "cell_type": "code",
      "execution_count": null,
      "metadata": {
        "collapsed": false
      },
      "outputs": [],
      "source": [
        "subsets = dataset.split(\"session\")\nprint({subset_name: len(subset) for subset_name, subset in subsets.items()})"
      ]
    },
    {
      "cell_type": "markdown",
      "metadata": {},
      "source": [
        "See our [Trialwise Decoding](../model_building/plot_bcic_iv_2a_moabb_trial.html)_ and\n[Cropped Decoding](../model_building/plot_bcic_iv_2a_moabb_cropped.html)_ examples for\ntraining with this dataset.\n\n"
      ]
    }
  ],
  "metadata": {
    "kernelspec": {
      "display_name": "Python 3",
      "language": "python",
      "name": "python3"
    },
    "language_info": {
      "codemirror_mode": {
        "name": "ipython",
        "version": 3
      },
      "file_extension": ".py",
      "mimetype": "text/x-python",
      "name": "python",
      "nbconvert_exporter": "python",
      "pygments_lexer": "ipython3",
      "version": "3.9.5"
    }
  },
  "nbformat": 4,
  "nbformat_minor": 0
}