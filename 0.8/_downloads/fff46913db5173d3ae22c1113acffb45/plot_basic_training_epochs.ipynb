{
  "cells": [
    {
      "cell_type": "markdown",
      "metadata": {},
      "source": [
        "\n# Simple training on MNE epochs\n\nThe braindecode library gives you access to a large number of neural network\narchitectures that were developed for EEG data decoding. This tutorial will\nshow you how you can easily use any of these models to decode your own data.\nIn particular, we assume that have your data in an MNE format and want to\ntrain one of the Braindecode models on it.\n   :depth: 2\n"
      ]
    },
    {
      "cell_type": "code",
      "execution_count": null,
      "metadata": {
        "collapsed": false
      },
      "outputs": [],
      "source": [
        "# Authors: Pierre Guetschel <pierre.guetschel@gmail.com>\n#\n# License: BSD (3-clause)"
      ]
    },
    {
      "cell_type": "markdown",
      "metadata": {},
      "source": [
        "## Finding the model you want\n\n### Exploring the braindecode online documentation\n\nLet's suppose you recently stumbled upon the Schirrmeister 2017 article [1]_.\nIn this article, the authors mention that their novel architecture ShallowConvNet\nis performing well on the BCI Competition IV 2a dataset and you would like to use\nit on your own data. Fortunately, the authors also mentioned they published their\narchitecture on Braindecode!\n\nIn order to use this architecture, you first need to find what is its exact\nname in Braindecode. To do so, you can visit the Braindecode online documentation\nwhich lists all the available models.\n\nModels list: https://braindecode.org/stable/api.html#models\n\nAlternatively, the API also provide a dictionary with all available models:\n\n"
      ]
    },
    {
      "cell_type": "code",
      "execution_count": null,
      "metadata": {
        "collapsed": false
      },
      "outputs": [],
      "source": [
        "from braindecode.models.util import models_dict\n\nprint(f'All the Braindecode models:\\n{list(models_dict.keys())}')"
      ]
    },
    {
      "cell_type": "markdown",
      "metadata": {},
      "source": [
        "After your investigation, you found out that the model you are looking for is\n``ShallowFBCSPNet``. You can now import it from Braindecode:\n\n"
      ]
    },
    {
      "cell_type": "code",
      "execution_count": null,
      "metadata": {
        "collapsed": false
      },
      "outputs": [],
      "source": [
        "from braindecode.models import ShallowFBCSPNet"
      ]
    },
    {
      "cell_type": "markdown",
      "metadata": {},
      "source": [
        "### Examining the model\n\nNow that you found your model, you must check which parameters it expects.\nYou can find this information either in the online documentation here:\n:class:`braindecode.models.ShallowFBCSPNet` or directly in the module's docstring:\n\n"
      ]
    },
    {
      "cell_type": "code",
      "execution_count": null,
      "metadata": {
        "collapsed": false
      },
      "outputs": [],
      "source": [
        "print(ShallowFBCSPNet.__doc__)"
      ]
    },
    {
      "cell_type": "markdown",
      "metadata": {},
      "source": [
        "Additionally, you might be interested in visualizing the model's architecture.\nThis can be done by initializing the model and calling its ``__str__()`` method.\nTo initialize it, we need to specify some parameters that we set at random\nvalues for now:\n\n"
      ]
    },
    {
      "cell_type": "code",
      "execution_count": null,
      "metadata": {
        "collapsed": false
      },
      "outputs": [],
      "source": [
        "model = ShallowFBCSPNet(\n    n_chans=32,\n    n_times=1000,\n    n_outputs=2,\n    final_conv_length='auto',\n)\nprint(model)"
      ]
    },
    {
      "cell_type": "markdown",
      "metadata": {},
      "source": [
        "## Loading your own data with MNE\n\nIn this tutorial, we demonstrate how to train the model on MNE data.\nMNE is quite a popular library for EEG data analysis as it provides methods\nto load data from many different file formats and a large collection of algorithms\nto preprocess it.\nHowever, Braindecode is not limited to MNE and can be used with numpy arrays or\nPyTorch tensors/datasets.\n\nFor this example, we generate some random data containing 100 examples with each\n3 channels and 1024 time points. We also generate some random labels for our data\nthat simulate a 4-class classification problem.\n\n"
      ]
    },
    {
      "cell_type": "code",
      "execution_count": null,
      "metadata": {
        "collapsed": false
      },
      "outputs": [],
      "source": [
        "import mne\nimport numpy as np\n\ninfo = mne.create_info(ch_names=['C3', 'C4', 'Cz'], sfreq=256., ch_types='eeg')\nX = np.random.randn(100, 3, 1024)  # 100 epochs, 3 channels, 4 seconds (@256Hz)\nepochs = mne.EpochsArray(X, info=info)\ny = np.random.randint(0, 4, size=100)  # 4 classes\nprint(epochs)"
      ]
    },
    {
      "cell_type": "markdown",
      "metadata": {},
      "source": [
        "## Training your model (scikit-learn compatible)\n\nNow that you know which model you want to use, you know how to instantiate it,\nand that we have some fake data, it is time to train the model!\n\n<div class=\"alert alert-info\"><h4>Note</h4><p>[Skorch](https://skorch.readthedocs.io)  is a library that allows you to wrap\n   any PyTorch module into a scikit-learn-compatible classifier or regressor.\n   Braindecode provides wrappers that inherit form the original Skorch ones and simply\n   implement a few additional features that facilitate the use of Braindecode models.</p></div>\n\nTo train a Braindecode model, the easiest way is by using braindecode's\nSkorch wrappers. These wrappers are :class:`braindecode.EEGClassifier` and\n:class:`braindecode.EEGRegressor`. As our fake data is a classification task,\nwe will use the former.\n\nThe wrapper :class:`braindecode.EEGClassifier` expects a model class as its first argument but\nto facilitate the usage, you can also simply pass the name of any braindecode model as a string.\nThe wrapper automatically finds and instantiates the model for you.\nIf you want to pass parameters to your model, you can give them to the wrapper\nwith the prefix ``module__``.\n\n\n"
      ]
    },
    {
      "cell_type": "code",
      "execution_count": null,
      "metadata": {
        "collapsed": false
      },
      "outputs": [],
      "source": [
        "from skorch.dataset import ValidSplit\nfrom braindecode import EEGClassifier\n\nnet = EEGClassifier(\n    'ShallowFBCSPNet',\n    module__final_conv_length='auto',\n    train_split=ValidSplit(0.2),\n    # To train a neural network you need validation split, here, we use 20%.\n)"
      ]
    },
    {
      "cell_type": "markdown",
      "metadata": {},
      "source": [
        "In this example, we passed one additional parameter to the wrapper: ``module__final_conv_length``\nthat will be forwarded to the model (without the prefix ``module__``).\n\nWe also note that the parameters ``n_chans``, ``n_times`` and ``n_outputs`` were not specified\neven if :class:`braindecode.ShallowFBCSPNet` needs them to be initialized. This is because the\nwrapper will automatically infer them, along with some other signal-related parameters,\nfrom the input data at training time.\n\nNow that we have our model wrapped in a scikit-learn-compatible classifier,\nwe can train it by simply calling the ``fit`` method:\n\n"
      ]
    },
    {
      "cell_type": "code",
      "execution_count": null,
      "metadata": {
        "collapsed": false
      },
      "outputs": [],
      "source": [
        "net.fit(epochs, y)"
      ]
    },
    {
      "cell_type": "markdown",
      "metadata": {},
      "source": [
        "The pre-trained model is accessible via the ``module_`` attribute:\n\n"
      ]
    },
    {
      "cell_type": "code",
      "execution_count": null,
      "metadata": {
        "collapsed": false
      },
      "outputs": [],
      "source": [
        "print(net.module_)"
      ]
    },
    {
      "cell_type": "markdown",
      "metadata": {},
      "source": [
        "And we can see that all the following parameters were automatically inferred\nfrom the training data:\n\n"
      ]
    },
    {
      "cell_type": "code",
      "execution_count": null,
      "metadata": {
        "collapsed": false
      },
      "outputs": [],
      "source": [
        "print(f'{net.module_.n_chans=}\\n{net.module_.n_times=}\\n{net.module_.n_outputs=}'\n      f'\\n{net.module_.input_window_seconds=}\\n{net.module_.sfreq=}\\n{net.module_.chs_info=}')"
      ]
    },
    {
      "cell_type": "markdown",
      "metadata": {},
      "source": [
        "Depending on the type of data used for training, some parameters might not be\npossible to infer. For example if you pass a numpy array or a\n:class:`braindecode.dataset.WindowsDataset` with ``target_from=\"metadata\"``,\n then only ``n_chans``, ``n_times`` and ``n_outputs`` will be inferred.\nAnd if you pass other types of datasets, only ``n_chans`` and ``n_times`` will be inferred.\nIn these case, you will have to pass the missing parameters manually\n(with the prefix ``module__``).\n\n"
      ]
    },
    {
      "cell_type": "markdown",
      "metadata": {},
      "source": [
        "## References\n\n.. [1] Schirrmeister, R.T., Springenberg, J.T., Fiederer, L.D.J., Glasstetter,\n       M., Eggensperger, K., Tangermann, M., Hutter, F. & Ball, T.(2017).\n       Deep learning with convolutional neural networks for EEG decoding and visualization.\n       Human Brain Mapping, Aug. 2017.\n       Online: http://dx.doi.org/10.1002/hbm.23730\n\n"
      ]
    }
  ],
  "metadata": {
    "kernelspec": {
      "display_name": "Python 3",
      "language": "python",
      "name": "python3"
    },
    "language_info": {
      "codemirror_mode": {
        "name": "ipython",
        "version": 3
      },
      "file_extension": ".py",
      "mimetype": "text/x-python",
      "name": "python",
      "nbconvert_exporter": "python",
      "pygments_lexer": "ipython3",
      "version": "3.9.5"
    }
  },
  "nbformat": 4,
  "nbformat_minor": 0
}