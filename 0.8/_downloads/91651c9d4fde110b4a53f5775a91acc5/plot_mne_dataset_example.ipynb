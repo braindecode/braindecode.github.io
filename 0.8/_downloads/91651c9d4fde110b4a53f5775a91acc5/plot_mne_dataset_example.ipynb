{
  "cells": [
    {
      "cell_type": "markdown",
      "metadata": {},
      "source": [
        "\n# MNE Dataset Example\n"
      ]
    },
    {
      "cell_type": "markdown",
      "metadata": {},
      "source": [
        "This example shows how to convert data from mne.Raws or mne.Epochs to a\nbraindecode compatible data format.\n\n"
      ]
    },
    {
      "cell_type": "code",
      "execution_count": null,
      "metadata": {
        "collapsed": false
      },
      "outputs": [],
      "source": [
        "# Authors: Lukas Gemein <l.gemein@gmail.com>\n#\n# License: BSD (3-clause)\n\nimport mne\n\nfrom braindecode.datasets import (\n    create_from_mne_raw, create_from_mne_epochs)"
      ]
    },
    {
      "cell_type": "markdown",
      "metadata": {},
      "source": [
        "First, fetch some data using mne:\n\n"
      ]
    },
    {
      "cell_type": "code",
      "execution_count": null,
      "metadata": {
        "collapsed": false
      },
      "outputs": [],
      "source": [
        "# 5, 6, 7, 10, 13, 14 are codes for executed and imagined hands/feet\nsubject_id = 22\nevent_codes = [5, 6, 9, 10, 13, 14]\n# event_codes = [3, 4, 5, 6, 7, 8, 9, 10, 11, 12, 13, 14]\n\n# This will download the files if you don't have them yet,\n# and then return the paths to the files.\nphysionet_paths = mne.datasets.eegbci.load_data(\n    subject_id, event_codes, update_path=False)\n\n# Load each of the files\nparts = [mne.io.read_raw_edf(path, preload=True, stim_channel='auto')\n         for path in physionet_paths]"
      ]
    },
    {
      "cell_type": "markdown",
      "metadata": {},
      "source": [
        "Convert Raw objects to a compatible data format:\n\n"
      ]
    },
    {
      "cell_type": "code",
      "execution_count": null,
      "metadata": {
        "collapsed": false
      },
      "outputs": [],
      "source": [
        "descriptions = [{\"event_code\": code, \"subject\": subject_id}\n                for code in event_codes]\nwindows_dataset = create_from_mne_raw(\n    parts,\n    trial_start_offset_samples=0,\n    trial_stop_offset_samples=0,\n    window_size_samples=500,\n    window_stride_samples=500,\n    drop_last_window=False,\n    descriptions=descriptions,\n)"
      ]
    },
    {
      "cell_type": "markdown",
      "metadata": {},
      "source": [
        "If trials were already cut beforehand and are available as mne.Epochs:\n\n"
      ]
    },
    {
      "cell_type": "code",
      "execution_count": null,
      "metadata": {
        "collapsed": false
      },
      "outputs": [],
      "source": [
        "list_of_epochs = [mne.Epochs(raw, [[0, 0, 0]], tmin=0, baseline=None)\n                  for raw in parts]\nwindows_dataset = create_from_mne_epochs(\n    list_of_epochs,\n    window_size_samples=50,\n    window_stride_samples=50,\n    drop_last_window=False\n)\n\nwindows_dataset.description"
      ]
    }
  ],
  "metadata": {
    "kernelspec": {
      "display_name": "Python 3",
      "language": "python",
      "name": "python3"
    },
    "language_info": {
      "codemirror_mode": {
        "name": "ipython",
        "version": 3
      },
      "file_extension": ".py",
      "mimetype": "text/x-python",
      "name": "python",
      "nbconvert_exporter": "python",
      "pygments_lexer": "ipython3",
      "version": "3.9.5"
    }
  },
  "nbformat": 4,
  "nbformat_minor": 0
}