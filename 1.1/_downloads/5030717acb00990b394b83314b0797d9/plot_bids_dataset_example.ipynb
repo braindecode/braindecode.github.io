{
  "cells": [
    {
      "cell_type": "markdown",
      "metadata": {},
      "source": [
        "\n# BIDS Dataset Example\n\nIn this example, we show how to fetch and prepare a BIDS dataset for usage\nwith Braindecode.\n"
      ]
    },
    {
      "cell_type": "code",
      "execution_count": null,
      "metadata": {
        "collapsed": false
      },
      "outputs": [],
      "source": [
        "# Authors: Pierre Guetschel <pierre.guetschel@gmail.com>\n#\n# License: BSD (3-clause)\n\nfrom pathlib import Path\n\nimport openneuro\n\nfrom braindecode.datasets import BIDSDataset"
      ]
    },
    {
      "cell_type": "markdown",
      "metadata": {},
      "source": [
        "First, we download a collection of (fake/empty) BIDS datasets.\n\n"
      ]
    },
    {
      "cell_type": "code",
      "execution_count": null,
      "metadata": {
        "collapsed": false
      },
      "outputs": [],
      "source": [
        "# import tempfile\n# data_dir = tempfile.mkdtemp()\ndata_dir = Path(\"~/mne_data/openneuro/\").expanduser()\ndataset_name = \"ds004745\"  # 200Mb dataset\ndataset_root = data_dir / dataset_name\n\nif not dataset_root.exists():\n    openneuro.download(dataset=dataset_name, target_dir=dataset_root)"
      ]
    },
    {
      "cell_type": "markdown",
      "metadata": {},
      "source": [
        "Now, loading the dataset is simply a one-line command:\n\n"
      ]
    },
    {
      "cell_type": "code",
      "execution_count": null,
      "metadata": {
        "collapsed": false
      },
      "outputs": [],
      "source": [
        "bids_ds = BIDSDataset(dataset_root)"
      ]
    },
    {
      "cell_type": "markdown",
      "metadata": {},
      "source": [
        "And we can see that the events of this dataset are set in the ``.annotations`` attribute of the raw data:\n\n"
      ]
    },
    {
      "cell_type": "code",
      "execution_count": null,
      "metadata": {
        "collapsed": false
      },
      "outputs": [],
      "source": [
        "print(bids_ds.datasets[0].raw.annotations)"
      ]
    }
  ],
  "metadata": {
    "kernelspec": {
      "display_name": "Python 3",
      "language": "python",
      "name": "python3"
    },
    "language_info": {
      "codemirror_mode": {
        "name": "ipython",
        "version": 3
      },
      "file_extension": ".py",
      "mimetype": "text/x-python",
      "name": "python",
      "nbconvert_exporter": "python",
      "pygments_lexer": "ipython3",
      "version": "3.12.11"
    }
  },
  "nbformat": 4,
  "nbformat_minor": 0
}