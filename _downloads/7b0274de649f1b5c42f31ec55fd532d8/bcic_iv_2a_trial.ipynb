{
  "cells": [
    {
      "cell_type": "code",
      "execution_count": null,
      "metadata": {
        "collapsed": false
      },
      "outputs": [],
      "source": [
        "%matplotlib inline"
      ]
    },
    {
      "cell_type": "markdown",
      "metadata": {},
      "source": [
        "\nTrialwise Decoding on BCIC IV 2a Competition Set\n================================================\n"
      ]
    },
    {
      "cell_type": "code",
      "execution_count": null,
      "metadata": {
        "collapsed": false
      },
      "outputs": [],
      "source": [
        "# Authors: Maciej Sliwowski\n#          Robin Tibor Schirrmeister\n#\n# License: BSD-3\n\nimport logging\nimport os.path\nimport sys\nfrom collections import OrderedDict\n\nimport numpy as np\nimport torch\nfrom skorch.callbacks.scoring import EpochScoring\nfrom torch import optim\nfrom torch.utils.data import Dataset\n\nfrom braindecode.callbacks import MaxNormConstraintCallback\nfrom braindecode.classifier import EEGClassifier\nfrom braindecode.datasets.bcic_iv_2a import BCICompetition4Set2A\nfrom braindecode.datautil.signal_target import apply_to_X_y\nfrom braindecode.datautil.signalproc import (\n    bandpass_cnt,\n    exponential_running_standardize,\n)\nfrom braindecode.datautil.trial_segment import create_signal_target_from_raw_mne\nfrom braindecode.mne_ext.signalproc import mne_apply\nfrom braindecode.models.deep4 import Deep4Net\nfrom braindecode.models.shallow_fbcsp import ShallowFBCSPNet\nfrom braindecode.scoring import PostEpochTrainScoring\nfrom braindecode.util import set_random_seeds\n\nlog = logging.getLogger(__name__)\n\ndata_folder = \"/data/schirrmr/schirrmr/bci-competition-iv/2a-gdf/\"\nsubject_id = 1  # 1-9\nlow_cut_hz = 4  # 0 or 4\nmodel = \"shallow\"  # 'shallow' or 'deep'\ncuda = True\n\nival = [-500, 4000]\nmax_epochs = 100  # 1600\nmax_increase_epochs = 160\nbatch_size = 60\nhigh_cut_hz = 38\nfactor_new = 1e-3\ninit_block_size = 1000\nvalid_set_fraction = 0.2\n\n\ndef split_into_two_sets(dataset, first_set_fraction=None, n_first_set=None):\n    \"\"\"\n    Split set into two sets either by fraction of first set or by number\n    of trials in first set.\n\n    Parameters\n    ----------\n    dataset: :class:`.SignalAndTarget`\n    first_set_fraction: float, optional\n        Fraction of trials in first set.\n    n_first_set: int, optional\n        Number of trials in first set\n\n    Returns\n    -------\n    first_set, second_set: :class:`.SignalAndTarget`\n        The two splitted sets.\n    \"\"\"\n    assert (first_set_fraction is None) != (\n        n_first_set is None\n    ), \"Pass either first_set_fraction or n_first_set\"\n    if n_first_set is None:\n        n_first_set = int(round(len(dataset.X) * first_set_fraction))\n    assert n_first_set < len(dataset.X)\n    first_set = apply_to_X_y(lambda a: a[:n_first_set], dataset)\n    second_set = apply_to_X_y(lambda a: a[n_first_set:], dataset)\n    return first_set, second_set\n\n\nclass EEGDataSet(Dataset):\n    def __init__(self, X, y):\n        self.X = X\n        if self.X.ndim == 3:\n            self.X = self.X[:, :, :, None]\n        self.y = y\n\n    def __len__(self):\n        return len(self.X)\n\n    def __getitem__(self, idx):\n        return self.X[idx], self.y[idx]\n\n\nclass TrainTestSplit(object):\n    def __init__(self, train_size):\n        assert isinstance(train_size, (int, float))\n        self.train_size = train_size\n\n    def __call__(self, dataset, y, **kwargs):\n        # can we directly use this https://scikit-learn.org/stable/modules/generated/sklearn.model_selection.train_test_split.html\n        # or stick to same API\n        if isinstance(self.train_size, int):\n            n_train_samples = self.train_size\n        else:\n            n_train_samples = int(self.train_size * len(dataset))\n\n        X, y = dataset.X, dataset.y\n        return (\n            EEGDataSet(X[:n_train_samples], y[:n_train_samples]),\n            EEGDataSet(X[n_train_samples:], y[n_train_samples:]),\n        )\n\ntrain_filename = \"A{:02d}T.gdf\".format(subject_id)\ntest_filename = \"A{:02d}E.gdf\".format(subject_id)\ntrain_filepath = os.path.join(data_folder, train_filename)\ntest_filepath = os.path.join(data_folder, test_filename)\ntrain_label_filepath = train_filepath.replace(\".gdf\", \".mat\")\ntest_label_filepath = test_filepath.replace(\".gdf\", \".mat\")\n\ntrain_loader = BCICompetition4Set2A(\n    train_filepath, labels_filename=train_label_filepath\n)\ntest_loader = BCICompetition4Set2A(\n    test_filepath, labels_filename=test_label_filepath\n)\ntrain_cnt = train_loader.load()\ntest_cnt = test_loader.load()\n\n# Preprocessing\n\ntrain_cnt = train_cnt.drop_channels([\"EOG-left\", \"EOG-central\", \"EOG-right\"])\nassert len(train_cnt.ch_names) == 22\n# lets convert to millvolt for numerical stability of next operations\ntrain_cnt = mne_apply(lambda a: a * 1e6, train_cnt)\ntrain_cnt = mne_apply(\n    lambda a: bandpass_cnt(\n        a,\n        low_cut_hz,\n        high_cut_hz,\n        train_cnt.info[\"sfreq\"],\n        filt_order=3,\n        axis=1,\n    ),\n    train_cnt,\n)\ntrain_cnt = mne_apply(\n    lambda a: exponential_running_standardize(\n        a.T, factor_new=factor_new, init_block_size=init_block_size, eps=1e-4\n    ).T,\n    train_cnt,\n)\n\ntest_cnt = test_cnt.drop_channels([\"EOG-left\", \"EOG-central\", \"EOG-right\"])\nassert len(test_cnt.ch_names) == 22\ntest_cnt = mne_apply(lambda a: a * 1e6, test_cnt)\ntest_cnt = mne_apply(\n    lambda a: bandpass_cnt(\n        a, low_cut_hz, high_cut_hz, test_cnt.info[\"sfreq\"], filt_order=3, axis=1\n    ),\n    test_cnt,\n)\ntest_cnt = mne_apply(\n    lambda a: exponential_running_standardize(\n        a.T, factor_new=factor_new, init_block_size=init_block_size, eps=1e-4\n    ).T,\n    test_cnt,\n)\n\nmarker_def = OrderedDict(\n    [(\"Left Hand\", [1]), (\"Right Hand\", [2]), (\"Foot\", [3]), (\"Tongue\", [4])]\n)\n\ntrain_set = create_signal_target_from_raw_mne(train_cnt, marker_def, ival)\ntest_set = create_signal_target_from_raw_mne(test_cnt, marker_def, ival)\n\ntrain_set, valid_set = split_into_two_sets(\n    train_set, first_set_fraction=1 - valid_set_fraction\n)\n\nlogging.basicConfig(\n    format=\"%(asctime)s %(levelname)s : %(message)s\",\n    level=logging.INFO,\n    stream=sys.stdout,\n)\n\n\n# Set if you want to use GPU\n# You can also use torch.cuda.is_available() to determine if cuda is available on your machine.\ncuda = True\nset_random_seeds(seed=20190706, cuda=cuda)\n\nn_classes = 4\nn_chans = int(train_set.X.shape[1])\ninput_time_length = train_set.X.shape[2]\nif model == \"shallow\":\n    model = ShallowFBCSPNet(\n        n_chans,\n        n_classes,\n        input_time_length=input_time_length,\n        final_conv_length=\"auto\",\n    )\nelif model == \"deep\":\n    model = Deep4Net(\n        n_chans,\n        n_classes,\n        input_time_length=input_time_length,\n        final_conv_length=\"auto\",\n    )\nif cuda:\n    model.cuda()\n\nclf = EEGClassifier(\n    model,\n    criterion=torch.nn.NLLLoss,\n    optimizer=optim.Adam,\n    train_split=TrainTestSplit(train_size=0.8),\n    batch_size=64,\n    device=\"cuda\",\n    iterator_train__drop_last=True,\n    callbacks=[\n        (\n            \"train_accuracy\",\n            PostEpochTrainScoring(\n                \"accuracy\", lower_is_better=False, name=\"train_acc\"\n            ),\n        ),\n        (\n            \"valid_accuracy\",\n            EpochScoring(\n                \"accuracy\",\n                lower_is_better=False,\n                name=\"valid_acc\",\n                on_train=False,\n                use_caching=True,\n            ),\n        ),\n        (\"constraint\", MaxNormConstraintCallback()),\n    ],\n)\n\nclf.fit(\n    np.concatenate((train_set.X, valid_set.X), axis=0),\n    np.concatenate((train_set.y, valid_set.y), axis=0),\n    epochs=100,\n)"
      ]
    }
  ],
  "metadata": {
    "kernelspec": {
      "display_name": "Python 3",
      "language": "python",
      "name": "python3"
    },
    "language_info": {
      "codemirror_mode": {
        "name": "ipython",
        "version": 3
      },
      "file_extension": ".py",
      "mimetype": "text/x-python",
      "name": "python",
      "nbconvert_exporter": "python",
      "pygments_lexer": "ipython3",
      "version": "3.7.6"
    }
  },
  "nbformat": 4,
  "nbformat_minor": 0
}