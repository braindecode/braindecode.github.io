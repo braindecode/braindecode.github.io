{
  "cells": [
    {
      "cell_type": "code",
      "execution_count": null,
      "metadata": {
        "collapsed": false
      },
      "outputs": [],
      "source": [
        "%matplotlib inline"
      ]
    },
    {
      "cell_type": "markdown",
      "metadata": {},
      "source": [
        "MOABB Dataset Example\n========================\n\nIn this example, we show how to fetch and prepare a MOABB dataset for usage\nwith Braindecode.\n"
      ]
    },
    {
      "cell_type": "code",
      "execution_count": null,
      "metadata": {
        "collapsed": false
      },
      "outputs": [],
      "source": [
        "# Authors: Lukas Gemein <l.gemein@gmail.com>\n#          Hubert Banville <hubert.jbanville@gmail.com>\n#          Simon Brandt <simonbrandt@protonmail.com>\n#\n# License: BSD (3-clause)\n\nfrom collections import OrderedDict\n\nimport matplotlib.pyplot as plt\nfrom IPython.display import display\n\nfrom braindecode.datasets import MOABBDataset\nfrom braindecode.datautil.windowers import \\\n    create_windows_from_events, create_fixed_length_windows\nfrom braindecode.datautil.preprocess import preprocess, MNEPreproc"
      ]
    },
    {
      "cell_type": "markdown",
      "metadata": {},
      "source": [
        "First, we create a dataset based on BCIC IV 2a fetched with MOABB,\n\n"
      ]
    },
    {
      "cell_type": "code",
      "execution_count": null,
      "metadata": {
        "collapsed": false
      },
      "outputs": [],
      "source": [
        "ds = MOABBDataset(dataset_name=\"BNCI2014001\", subject_ids=[1])"
      ]
    },
    {
      "cell_type": "markdown",
      "metadata": {},
      "source": [
        "ds has a pandas DataFrame with additional description of its internal datasets\n\n"
      ]
    },
    {
      "cell_type": "code",
      "execution_count": null,
      "metadata": {
        "collapsed": false
      },
      "outputs": [],
      "source": [
        "display(ds.description)"
      ]
    },
    {
      "cell_type": "markdown",
      "metadata": {},
      "source": [
        "We can iterate through ds which yields one time point of a continuous signal x,\nand a target y (which can be None if targets are not defined for the entire\ncontinuous signal).\n\n"
      ]
    },
    {
      "cell_type": "code",
      "execution_count": null,
      "metadata": {
        "collapsed": false
      },
      "outputs": [],
      "source": [
        "for x, y in ds:\n    print(x.shape, y)\n    break"
      ]
    },
    {
      "cell_type": "markdown",
      "metadata": {},
      "source": [
        "We can apply preprocessing transforms that are defined in mne and work\nin-place, such as resampling, bandpass filtering, or electrode selection.\n\n"
      ]
    },
    {
      "cell_type": "code",
      "execution_count": null,
      "metadata": {
        "collapsed": false
      },
      "outputs": [],
      "source": [
        "transforms = [\n    MNEPreproc(\"pick_types\", eeg=True, meg=False, stim=True),\n    MNEPreproc(\"resample\", sfreq=100),\n]\nprint(ds.datasets[0].raw.info[\"sfreq\"])\npreprocess(ds, transforms)\nprint(ds.datasets[0].raw.info[\"sfreq\"])"
      ]
    },
    {
      "cell_type": "markdown",
      "metadata": {},
      "source": [
        "We can easily split ds based on a criteria applied to the description\nDataFrame:\n\n"
      ]
    },
    {
      "cell_type": "code",
      "execution_count": null,
      "metadata": {
        "collapsed": false
      },
      "outputs": [],
      "source": [
        "subsets = ds.split(\"session\")\nprint({subset_name: len(subset) for subset_name, subset in subsets.items()})"
      ]
    },
    {
      "cell_type": "markdown",
      "metadata": {},
      "source": [
        "Next, we use a windower to extract events from the dataset based on events:\n\n"
      ]
    },
    {
      "cell_type": "code",
      "execution_count": null,
      "metadata": {
        "collapsed": false
      },
      "outputs": [],
      "source": [
        "windows_ds = create_windows_from_events(\n    ds, trial_start_offset_samples=0, trial_stop_offset_samples=100,\n    window_size_samples=400, window_stride_samples=100,\n    drop_last_window=False)"
      ]
    },
    {
      "cell_type": "markdown",
      "metadata": {},
      "source": [
        "We can iterate through the windows_ds which yields a window x,\na target y, and window_ind (which itself contains `i_window_in_trial`,\n`i_start_in_trial`, and `i_stop_in_trial`, which are required for combining\nwindow predictions in the scorer).\n\n"
      ]
    },
    {
      "cell_type": "code",
      "execution_count": null,
      "metadata": {
        "collapsed": false
      },
      "outputs": [],
      "source": [
        "for x, y, window_ind in windows_ds:\n    print(x.shape, y, window_ind)\n    break"
      ]
    },
    {
      "cell_type": "markdown",
      "metadata": {},
      "source": [
        "We visually inspect the windows:\n\n"
      ]
    },
    {
      "cell_type": "code",
      "execution_count": null,
      "metadata": {
        "collapsed": false
      },
      "outputs": [],
      "source": [
        "max_i = 2\nfig, ax_arr = plt.subplots(1, max_i + 1, figsize=((max_i + 1) * 7, 5),\n                           sharex=True, sharey=True)\nfor i, (x, y, window_ind) in enumerate(windows_ds):\n    ax_arr[i].plot(x.T)\n    ax_arr[i].set_ylim(-0.0002, 0.0002)\n    ax_arr[i].set_title(f\"label={y}\")\n    if i == max_i:\n        break"
      ]
    },
    {
      "cell_type": "markdown",
      "metadata": {},
      "source": [
        "Alternatively, we can create evenly spaced (\"sliding\") windows using a\ndifferent windower.\n\n"
      ]
    },
    {
      "cell_type": "code",
      "execution_count": null,
      "metadata": {
        "collapsed": false
      },
      "outputs": [],
      "source": [
        "sliding_windows_ds = create_fixed_length_windows(\n    ds, start_offset_samples=0, stop_offset_samples=0,\n    window_size_samples=1200, window_stride_samples=1000,\n    drop_last_window=False)\n\nprint(len(sliding_windows_ds))\nfor x, y, window_ind in sliding_windows_ds:\n    print(x.shape, y, window_ind)\n    break"
      ]
    },
    {
      "cell_type": "markdown",
      "metadata": {},
      "source": [
        "Transforms can also be applied on windows in the same way as shown\nabove on continuous data:\n\n"
      ]
    },
    {
      "cell_type": "code",
      "execution_count": null,
      "metadata": {
        "collapsed": false
      },
      "outputs": [],
      "source": [
        "def crop_windows(windows, start_offset_samples, stop_offset_samples):\n    fs = windows.info[\"sfreq\"]\n    windows.crop(tmin=start_offset_samples / fs, tmax=stop_offset_samples / fs,\n                 include_tmax=False)\n\nepochs_transform_list = [\n    MNEPreproc(\"pick_types\", eeg=True, meg=False, stim=False),\n    MNEPreproc(crop_windows, start_offset_samples=100, stop_offset_samples=900),\n]\n\nprint(windows_ds.datasets[0].windows.info[\"ch_names\"],\n      len(windows_ds.datasets[0].windows.times))\npreprocess(windows_ds, epochs_transform_list)\nprint(windows_ds.datasets[0].windows.info[\"ch_names\"],\n      len(windows_ds.datasets[0].windows.times))\n\nmax_i = 2\nfig, ax_arr = plt.subplots(1, max_i+1, figsize=((max_i+1)*7, 5),\n                           sharex=True, sharey=True)\nfor i, (x, y, window_ind) in enumerate(windows_ds):\n    ax_arr[i].plot(x.T)\n    ax_arr[i].set_ylim(-0.0002, 0.0002)\n    ax_arr[i].set_title(f\"label={y}\")\n    if i == max_i:\n        break"
      ]
    },
    {
      "cell_type": "markdown",
      "metadata": {},
      "source": [
        "Again, we can easily split windows_ds based on some criteria in the\ndescription DataFrame:\n\n"
      ]
    },
    {
      "cell_type": "code",
      "execution_count": null,
      "metadata": {
        "collapsed": false
      },
      "outputs": [],
      "source": [
        "subsets = windows_ds.split(\"session\")\nprint({subset_name: len(subset) for subset_name, subset in subsets.items()})"
      ]
    }
  ],
  "metadata": {
    "kernelspec": {
      "display_name": "Python 3",
      "language": "python",
      "name": "python3"
    },
    "language_info": {
      "codemirror_mode": {
        "name": "ipython",
        "version": 3
      },
      "file_extension": ".py",
      "mimetype": "text/x-python",
      "name": "python",
      "nbconvert_exporter": "python",
      "pygments_lexer": "ipython3",
      "version": "3.7.8"
    }
  },
  "nbformat": 4,
  "nbformat_minor": 0
}