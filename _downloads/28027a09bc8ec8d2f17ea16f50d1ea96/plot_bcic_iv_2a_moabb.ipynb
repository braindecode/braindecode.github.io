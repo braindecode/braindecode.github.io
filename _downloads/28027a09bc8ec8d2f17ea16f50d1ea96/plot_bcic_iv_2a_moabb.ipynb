{
  "cells": [
    {
      "cell_type": "code",
      "execution_count": null,
      "metadata": {
        "collapsed": false
      },
      "outputs": [],
      "source": [
        "%matplotlib inline"
      ]
    },
    {
      "cell_type": "markdown",
      "metadata": {},
      "source": [
        "\nCropped Decoding on BCIC IV 2a Competition Set with skorch and moabb.\n==============================================\n"
      ]
    },
    {
      "cell_type": "code",
      "execution_count": null,
      "metadata": {
        "collapsed": false
      },
      "outputs": [],
      "source": [
        "# Authors: Maciej Sliwowski\n#          Robin Tibor Schirrmeister\n#          Lukas Gemein\n#          Hubert Banville\n#\n# License: BSD-3\n\n\nimport numpy as np\nimport torch\nfrom torch import optim\n\nfrom braindecode.datautil.windowers import create_windows_from_events\nfrom braindecode.classifier import EEGClassifier\nfrom braindecode.datasets import MOABBDataset\nfrom braindecode.losses import CroppedNLLLoss\nfrom braindecode.models.deep4 import Deep4Net\nfrom braindecode.models.shallow_fbcsp import ShallowFBCSPNet\nfrom braindecode.models.util import to_dense_prediction_model\nfrom braindecode.scoring import CroppedTrialEpochScoring\nfrom braindecode.util import set_random_seeds\n\nmodel_name = \"shallow\"  # 'shallow' or 'deep'\ncuda = torch.cuda.is_available()\ndevice = 'cuda' if cuda else 'cpu'\n\nset_random_seeds(seed=20190706, cuda=cuda)\n\ninput_time_length = 1000\nn_classes = 4\nn_chans = 26 # TODO: should be 22 of course\nif model_name == \"shallow\":\n    model = ShallowFBCSPNet(\n        n_chans,\n        n_classes,\n        input_time_length=input_time_length,\n        final_conv_length=30,\n    )\nelif model_name == \"deep\":\n    model = Deep4Net(\n        n_chans,\n        n_classes,\n        input_time_length=input_time_length,\n        final_conv_length=2,\n    )\n\nto_dense_prediction_model(model)\n\nif cuda:\n    model.cuda()\n\nwith torch.no_grad():\n    dummy_input = torch.tensor(\n        np.ones((1, n_chans, input_time_length, 1), dtype=np.float32),\n        device=device,\n    )\n    n_preds_per_input = model(dummy_input).shape[2]\n\n\ndataset = MOABBDataset(dataset_name=\"BNCI2014001\", subject_ids=[1])\n\nwindows_dataset = create_windows_from_events(\n    dataset, trial_start_offset_samples=-125, trial_stop_offset_samples=0,\n    supercrop_size_samples=1000, supercrop_stride_samples=n_preds_per_input,\n    drop_samples=False)\n\n\nclass TrainTestBCICIV2aSplit(object):\n    def __call__(self, dataset, y, **kwargs):\n        splitted = dataset.split('session')\n        return splitted['session_T'], splitted['session_E']\n\n\ncropped_cb_train = CroppedTrialEpochScoring(\n    \"accuracy\",\n    name=\"train_trial_accuracy\",\n    lower_is_better=False,\n    on_train=True,\n    input_time_length=input_time_length,\n)\ncropped_cb_train_f1_score = CroppedTrialEpochScoring(\n    \"f1_macro\",\n    name=\"train_f1_score\",\n    lower_is_better=False,\n    on_train=True,\n    input_time_length=input_time_length,\n)\ncropped_cb_valid = CroppedTrialEpochScoring(\n    \"accuracy\",\n    on_train=False,\n    name=\"valid_trial_accuracy\",\n    lower_is_better=False,\n    input_time_length=input_time_length,\n)\ncropped_cb_valid_f1_score = CroppedTrialEpochScoring(\n    \"f1_macro\",\n    name=\"valid_f1_score\",\n    lower_is_better=False,\n    on_train=False,\n    input_time_length=input_time_length,\n)\n# MaxNormDefaultConstraint and early stopping should be added to repeat previous braindecode\n\nclf = EEGClassifier(\n    model,\n    criterion=CroppedNLLLoss,\n    optimizer=optim.AdamW,\n    train_split=TrainTestBCICIV2aSplit(),\n    optimizer__lr=0.0625 * 0.01,\n    optimizer__weight_decay=0,\n    batch_size=32,\n    callbacks=[\n        (\"train_trial_accuracy\", cropped_cb_train),\n        (\"train_trial_f1_score\", cropped_cb_train_f1_score),\n        (\"valid_trial_accuracy\", cropped_cb_valid),\n    ],\n    device=device,\n)\n\nclf.fit(windows_dataset, y=None, epochs=1)"
      ]
    }
  ],
  "metadata": {
    "kernelspec": {
      "display_name": "Python 3",
      "language": "python",
      "name": "python3"
    },
    "language_info": {
      "codemirror_mode": {
        "name": "ipython",
        "version": 3
      },
      "file_extension": ".py",
      "mimetype": "text/x-python",
      "name": "python",
      "nbconvert_exporter": "python",
      "pygments_lexer": "ipython3",
      "version": "3.7.6"
    }
  },
  "nbformat": 4,
  "nbformat_minor": 0
}