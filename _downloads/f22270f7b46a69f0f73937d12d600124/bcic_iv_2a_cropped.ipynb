{
  "cells": [
    {
      "cell_type": "code",
      "execution_count": null,
      "metadata": {
        "collapsed": false
      },
      "outputs": [],
      "source": [
        "%matplotlib inline"
      ]
    },
    {
      "cell_type": "markdown",
      "metadata": {},
      "source": [
        "\nCropped Decoding on BCIC IV 2a Competition Set\n==============================================\n"
      ]
    },
    {
      "cell_type": "code",
      "execution_count": null,
      "metadata": {
        "collapsed": false
      },
      "outputs": [],
      "source": [
        "# Authors: Maciej Sliwowski\n#          Robin Tibor Schirrmeister\n#\n# License: BSD-3\n\nimport os.path\nfrom collections import OrderedDict\n\nimport torch\nfrom torch import optim\nfrom torch.utils.data import Dataset\n\nfrom braindecode.datasets.bcic_iv_2a import BCICompetition4Set2A\nfrom braindecode.datautil import CropsDataLoader\nfrom braindecode.datautil.signalproc import (\n    bandpass_cnt,\n    exponential_running_standardize,\n)\nfrom braindecode.datautil.trial_segment import create_signal_target_from_raw_mne\nfrom braindecode.classifier import EEGClassifier\nfrom braindecode.scoring import (CroppedTrialEpochScoring,)\nfrom braindecode.mne_ext.signalproc import mne_apply\nfrom braindecode.models.deep4 import Deep4Net\nfrom braindecode.models.shallow_fbcsp import ShallowFBCSPNet\nfrom braindecode.models.util import to_dense_prediction_model\nfrom braindecode.util import set_random_seeds\nfrom braindecode.losses import CroppedNLLLoss\n\n\nclass EEGDataSet(Dataset):\n    def __init__(self, X, y):\n        self.X = X\n        if self.X.ndim == 3:\n            self.X = self.X[:, :, :, None]\n        self.y = y\n\n    def __len__(self):\n        return len(self.X)\n\n    def __getitem__(self, idx):\n        i_trial, start, stop = idx\n        return self.X[i_trial, :, start:stop], self.y[i_trial]\n\n\nclass TrainTestSplit(object):\n    def __init__(self, train_size):\n        assert isinstance(train_size, (int, float))\n        self.train_size = train_size\n\n    def __call__(self, dataset, y, **kwargs):\n        # can we directly use this https://scikit-learn.org/stable/modules/generated/sklearn.model_selection.train_test_split.html\n        # or stick to same API\n        if isinstance(self.train_size, int):\n            n_train_samples = self.train_size\n        else:\n            n_train_samples = int(self.train_size * len(dataset))\n\n        X, y = dataset.X, dataset.y\n        return (\n            EEGDataSet(X[:n_train_samples], y[:n_train_samples]),\n            EEGDataSet(X[n_train_samples:], y[n_train_samples:]),\n        )\n\n\ndata_folder = \"/data/bci_competition/\"\nsubject_id = 1  # 1-9\nlow_cut_hz = 4  # 0 or 4\nmodel = \"shallow\"  # 'shallow' or 'deep'\ncuda = False\nival = [-500, 4000]\ninput_time_length = 1000\nmax_epochs = 5\nmax_increase_epochs = 80\nbatch_size = 60\nhigh_cut_hz = 38\nfactor_new = 1e-3\ninit_block_size = 1000\nvalid_set_fraction = 0.2\n\ntrain_filename = \"A{:02d}T.gdf\".format(subject_id)\ntest_filename = \"A{:02d}E.gdf\".format(subject_id)\ntrain_filepath = os.path.join(data_folder, train_filename)\ntest_filepath = os.path.join(data_folder, test_filename)\ntrain_label_filepath = train_filepath.replace(\".gdf\", \".mat\")\ntest_label_filepath = test_filepath.replace(\".gdf\", \".mat\")\n\ntrain_loader = BCICompetition4Set2A(\n    train_filepath, labels_filename=train_label_filepath\n)\ntest_loader = BCICompetition4Set2A(test_filepath, labels_filename=test_label_filepath)\nraw_train = train_loader.load()\nraw_test = test_loader.load()\n\n# Preprocessing\n\nraw_train = raw_train.drop_channels([\"EOG-left\", \"EOG-central\", \"EOG-right\"])\nassert len(raw_train.ch_names) == 22\n# lets convert to millvolt for numerical stability of next operations\nraw_train = mne_apply(lambda a: a * 1e6, raw_train)\nraw_train = mne_apply(\n    lambda a: bandpass_cnt(\n        a, low_cut_hz, high_cut_hz, raw_train.info[\"sfreq\"], filt_order=3, axis=1\n    ),\n    raw_train,\n)\nraw_train = mne_apply(\n    lambda a: exponential_running_standardize(\n        a.T, factor_new=factor_new, init_block_size=init_block_size, eps=1e-4\n    ).T,\n    raw_train,\n)\n\nraw_test = raw_test.drop_channels([\"EOG-left\", \"EOG-central\", \"EOG-right\"])\nassert len(raw_test.ch_names) == 22\nraw_test = mne_apply(lambda a: a * 1e6, raw_test)\nraw_test = mne_apply(\n    lambda a: bandpass_cnt(\n        a, low_cut_hz, high_cut_hz, raw_test.info[\"sfreq\"], filt_order=3, axis=1\n    ),\n    raw_test,\n)\nraw_test = mne_apply(\n    lambda a: exponential_running_standardize(\n        a.T, factor_new=factor_new, init_block_size=init_block_size, eps=1e-4\n    ).T,\n    raw_test,\n)\nmarker_def = OrderedDict(\n    [(\"Left Hand\", [1]), (\"Right Hand\", [2],), (\"Foot\", [3]), (\"Tongue\", [4])]\n)\n\ntrain_set = create_signal_target_from_raw_mne(raw_train, marker_def, ival)\ntest_set = create_signal_target_from_raw_mne(raw_test, marker_def, ival)\n\ntrain_set = EEGDataSet(train_set.X, train_set.y)\ntest_set = EEGDataSet(test_set.X, test_set.y)\n\nset_random_seeds(seed=20190706, cuda=cuda)\n\nn_classes = 4\nn_chans = int(train_set.X.shape[1])\nif model == \"shallow\":\n    model = ShallowFBCSPNet(\n        n_chans, n_classes, input_time_length=input_time_length, final_conv_length=30\n    )\nelif model == \"deep\":\n    model = Deep4Net(\n        n_chans, n_classes, input_time_length=input_time_length, final_conv_length=2\n    )\n\nto_dense_prediction_model(model)\n\nif cuda:\n    model.cuda()\n\nwith torch.no_grad():\n    dummy_input = torch.tensor(train_set.X[:1, :, :input_time_length], device=\"cpu\")\n    n_preds_per_input = model(dummy_input).shape[2]\n\nout = model(dummy_input)\n\ncropped_cb_train = CroppedTrialEpochScoring(\n    \"accuracy\", name=\"train_trial_accuracy\", lower_is_better=False, on_train=True\n)\n\ncropped_cb_valid = CroppedTrialEpochScoring(\n    \"accuracy\", on_train=False, name=\"valid_trial_accuracy\", lower_is_better=False,\n)\n# MaxNormDefaultConstraint and early stopping should be added to repeat previous braindecode\n\nclf = EEGClassifier(\n    model,\n    criterion=CroppedNLLLoss,\n    optimizer=optim.AdamW,\n    train_split=TrainTestSplit(train_size=1 - valid_set_fraction),\n    optimizer__lr=0.0625 * 0.01,\n    optimizer__weight_decay=0,\n    batch_size=32,\n    iterator_train=CropsDataLoader,\n    iterator_valid=CropsDataLoader,\n    iterator_train__input_time_length=input_time_length,\n    iterator_train__n_preds_per_input=n_preds_per_input,\n    iterator_valid__input_time_length=input_time_length,\n    iterator_valid__n_preds_per_input=n_preds_per_input,\n    callbacks=[\n        (\"train_trial_accuracy\", cropped_cb_train),\n        (\"valid_trial_accuracy\", cropped_cb_valid),\n    ],\n)\n\nclf.fit(train_set.X, train_set.y, epochs=20)"
      ]
    }
  ],
  "metadata": {
    "kernelspec": {
      "display_name": "Python 3",
      "language": "python",
      "name": "python3"
    },
    "language_info": {
      "codemirror_mode": {
        "name": "ipython",
        "version": 3
      },
      "file_extension": ".py",
      "mimetype": "text/x-python",
      "name": "python",
      "nbconvert_exporter": "python",
      "pygments_lexer": "ipython3",
      "version": "3.7.6"
    }
  },
  "nbformat": 4,
  "nbformat_minor": 0
}