{
  "cells": [
    {
      "cell_type": "code",
      "execution_count": null,
      "metadata": {
        "collapsed": false
      },
      "outputs": [],
      "source": [
        "%matplotlib inline"
      ]
    },
    {
      "cell_type": "markdown",
      "metadata": {},
      "source": [
        "\nCropped Decoding on BCIC IV 2a Competition Set\n==============================================\n"
      ]
    },
    {
      "cell_type": "code",
      "execution_count": null,
      "metadata": {
        "collapsed": false
      },
      "outputs": [],
      "source": [
        "# Authors: Maciej Sliwowski <maciek.sliwowski@gmail.com>\n#          Robin Tibor Schirrmeister <robintibor@gmail.com>\n#\n# License: BSD-3\n\nimport os.path\nfrom collections import OrderedDict\n\nimport torch\n\nfrom braindecode.classifier import EEGClassifier\nfrom braindecode.datasets.bcic_iv_2a import BCICompetition4Set2A\nfrom braindecode.datasets.croppedxy import CroppedXyDataset\nfrom braindecode.datautil.signalproc import exponential_running_standardize\nfrom braindecode.datautil.splitters import TrainTestSplit\nfrom braindecode.datautil.trial_segment import create_signal_target_from_raw_mne\nfrom braindecode.losses import CroppedNLLLoss\nfrom braindecode.models.deep4 import Deep4Net\nfrom braindecode.models.shallow_fbcsp import ShallowFBCSPNet\nfrom braindecode.models.util import to_dense_prediction_model\nfrom braindecode.scoring import CroppedTrialEpochScoring\nfrom braindecode.util import set_random_seeds\n\ndata_folder = \"/data/schirrmr/schirrmr/bci-competition-iv/2a-gdf/\"\nsubject_id = 1  # 1-9\nlow_cut_hz = 4  # 0 or 4\nmodel = \"shallow\"  # 'shallow' or 'deep'\ncuda = False\nival = [-500, 4000]\ninput_time_length = 1000\nmax_epochs = 5\nmax_increase_epochs = 80\nbatch_size = 60\nhigh_cut_hz = 38\nfactor_new = 1e-3\ninit_block_size = 1000\nvalid_set_fraction = 0.2\n\ntrain_filename = \"A{:02d}T.gdf\".format(subject_id)\ntest_filename = \"A{:02d}E.gdf\".format(subject_id)\ntrain_filepath = os.path.join(data_folder, train_filename)\ntest_filepath = os.path.join(data_folder, test_filename)\ntrain_label_filepath = train_filepath.replace(\".gdf\", \".mat\")\ntest_label_filepath = test_filepath.replace(\".gdf\", \".mat\")\n\ntrain_loader = BCICompetition4Set2A(\n    train_filepath, labels_filename=train_label_filepath\n)\ntest_loader = BCICompetition4Set2A(\n    test_filepath, labels_filename=test_label_filepath\n)\nraw_train = train_loader.load()\nraw_test = test_loader.load()\n\n# Preprocessing\n\nraw_train = raw_train.drop_channels([\"EOG-left\", \"EOG-central\", \"EOG-right\"])\nassert len(raw_train.ch_names) == 22\n# lets convert to millvolt for numerical stability of next operations\nraw_train.apply_function(fun=lambda a: a * 1e6, channel_wise=False)\nraw_train.filter(l_freq=low_cut_hz, h_freq=high_cut_hz, method='iir',\n                 iir_params=dict(order=3, ftype='butter'))\nraw_train.apply_function(\n    fun=lambda a: exponential_running_standardize(\n        a, factor_new=factor_new, init_block_size=init_block_size, eps=1e-4\n    ), channel_wise=False)\n\nraw_test = raw_test.drop_channels([\"EOG-left\", \"EOG-central\", \"EOG-right\"])\nassert len(raw_test.ch_names) == 22\nraw_test.apply_function(fun=lambda a: a * 1e6, channel_wise=False)\nraw_test.filter(l_freq=low_cut_hz, h_freq=high_cut_hz, method='iir',\n                iir_params=dict(order=3, ftype='butter'))\nraw_test.apply_function(\n    fun=lambda a: exponential_running_standardize(\n        a, factor_new=factor_new, init_block_size=init_block_size, eps=1e-4\n    ), channel_wise=False)\nmarker_def = OrderedDict(\n    [(\"Left Hand\", [1]), (\"Right Hand\", [2],), (\"Foot\", [3]), (\"Tongue\", [4])]\n)\n\ntrain_set = create_signal_target_from_raw_mne(raw_train, marker_def, ival)\ntest_set = create_signal_target_from_raw_mne(raw_test, marker_def, ival)\n\n\nset_random_seeds(seed=20190706, cuda=cuda)\n\nn_classes = 4\nn_chans = int(train_set.X.shape[1])\nif model == \"shallow\":\n    model = ShallowFBCSPNet(\n        n_chans,\n        n_classes,\n        input_time_length=input_time_length,\n        final_conv_length=30,\n    )\nelif model == \"deep\":\n    model = Deep4Net(\n        n_chans,\n        n_classes,\n        input_time_length=input_time_length,\n        final_conv_length=2,\n    )\n\nto_dense_prediction_model(model)\n\nif cuda:\n    model.cuda()\n\nwith torch.no_grad():\n    dummy_input = torch.Tensor(\n        train_set.X[:1, :, :input_time_length], device=\"cpu\"\n    )\n    n_preds_per_input = model(dummy_input).shape[2]\n\nout = model(dummy_input)\n\ntrain_set = CroppedXyDataset(\n    train_set.X, train_set.y,\n    input_time_length=input_time_length,\n    n_preds_per_input=n_preds_per_input)\ntest_set = CroppedXyDataset(\n    test_set.X, test_set.y,\n    input_time_length=input_time_length,\n    n_preds_per_input=n_preds_per_input)\n\n\n# MaxNormDefaultConstraint and early stopping should be added to repeat\n# previous braindecode\nclf = EEGClassifier(\n    model,\n    cropped=True,\n    criterion=CroppedNLLLoss,\n    optimizer=torch.optim.AdamW,\n    train_split=TrainTestSplit(train_size=1 - valid_set_fraction,\n                               input_time_length=input_time_length,\n                               n_preds_per_input=n_preds_per_input),\n    optimizer__lr=0.0625 * 0.01,\n    optimizer__weight_decay=0,\n    batch_size=32,\n    callbacks=['accuracy'],\n)\n\nclf.fit(train_set.X, train_set.y, epochs=20)"
      ]
    }
  ],
  "metadata": {
    "kernelspec": {
      "display_name": "Python 3",
      "language": "python",
      "name": "python3"
    },
    "language_info": {
      "codemirror_mode": {
        "name": "ipython",
        "version": 3
      },
      "file_extension": ".py",
      "mimetype": "text/x-python",
      "name": "python",
      "nbconvert_exporter": "python",
      "pygments_lexer": "ipython3",
      "version": "3.7.6"
    }
  },
  "nbformat": 4,
  "nbformat_minor": 0
}